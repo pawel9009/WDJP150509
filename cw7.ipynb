{
 "cells": [
  {
   "cell_type": "markdown",
   "metadata": {
    "collapsed": true,
    "pycharm": {
     "name": "#%% md\n"
    }
   },
   "source": [
    "1. Napisz program obliczający sumę dwóch liczb całkowitych. W programie stwórz własną metodę z\n",
    "dwoma parametrami i zwracającą sumę. Napisz trzy przypadki testowe.\n"
   ]
  },
  {
   "cell_type": "code",
   "execution_count": 93,
   "outputs": [
    {
     "name": "stdout",
     "output_type": "stream",
     "text": [
      "Suma 5 i 1 = 6\n",
      "Suma 352 i 76 = 428\n",
      "Suma -47 i 99 = 52\n"
     ]
    }
   ],
   "source": [
    "def suma(a1, b1):\n",
    "    return a1+b1\n",
    "\n",
    "\n",
    "print(f'Suma 5 i 1 = {suma(5,1)}')\n",
    "print(f'Suma 352 i 76 = {suma(352,76)}')\n",
    "print(f'Suma -47 i 99 = {suma(-47,99)}')"
   ],
   "metadata": {
    "collapsed": false,
    "pycharm": {
     "name": "#%%\n"
    }
   }
  },
  {
   "cell_type": "markdown",
   "source": [
    "2. Napisz program do obliczenia silni. Nie korzystaj z gotowych funkcji, napisz własną funkcję w której\n",
    "wnętrzu wykorzystasz pętle. Napisz trzy przypadki testowe"
   ],
   "metadata": {
    "collapsed": false,
    "pycharm": {
     "name": "#%% md\n"
    }
   }
  },
  {
   "cell_type": "code",
   "execution_count": 94,
   "outputs": [
    {
     "name": "stdout",
     "output_type": "stream",
     "text": [
      "silnia z 3 = 6\n",
      "silnia z 7 = 5040\n",
      "silnia z 11 = 39916800\n"
     ]
    }
   ],
   "source": [
    "def silnia(n2):\n",
    "    sil = 1\n",
    "    for x in range(1,n2+1):\n",
    "        sil *= x\n",
    "    return sil\n",
    "\n",
    "print(f'silnia z 3 = {silnia(3)}')\n",
    "print(f'silnia z 7 = {silnia(7)}')\n",
    "print(f'silnia z 11 = {silnia(11)}')"
   ],
   "metadata": {
    "collapsed": false,
    "pycharm": {
     "name": "#%%\n"
    }
   }
  },
  {
   "cell_type": "markdown",
   "source": [
    "3. Napisz program do obliczenia silni. Nie korzystaj z gotowych funkcji, napisz własną funkcję rekurencyjną."
   ],
   "metadata": {
    "collapsed": false,
    "pycharm": {
     "name": "#%% md\n"
    }
   }
  },
  {
   "cell_type": "code",
   "execution_count": 95,
   "outputs": [
    {
     "name": "stdout",
     "output_type": "stream",
     "text": [
      "silnia_rek z 3 = 6\n",
      "silnia_rek z 7 = 5040\n",
      "silnia_rek z 11 = 39916800\n"
     ]
    }
   ],
   "source": [
    "def silnia_rek(n3):\n",
    "    if n3 == 1:\n",
    "        return 1\n",
    "    else:\n",
    "        return n3*silnia(n3-1)\n",
    "\n",
    "print(f'silnia_rek z 3 = {silnia_rek(3)}')\n",
    "print(f'silnia_rek z 7 = {silnia_rek(7)}')\n",
    "print(f'silnia_rek z 11 = {silnia_rek(11)}')"
   ],
   "metadata": {
    "collapsed": false,
    "pycharm": {
     "name": "#%%\n"
    }
   }
  },
  {
   "cell_type": "markdown",
   "source": [
    "4. Zdefiniuj funkcję “cg”, która dla podanych trzech parametrów: n=numer elementu ciągu, a1=wartość\n",
    "pierwszego elementu ciągu (domyślnie 1), q=wartość iloczynu ciągu geometrycznego (domyślnie 2)\n",
    "zwróci n-ty element ciągu geometrycznego. https://pl.wikipedia.org/wiki/Ci%C4%85g_geometryczny.\n",
    "Stwórz dwa przypadki testowe."
   ],
   "metadata": {
    "collapsed": false,
    "pycharm": {
     "name": "#%% md\n"
    }
   }
  },
  {
   "cell_type": "code",
   "execution_count": 96,
   "outputs": [
    {
     "name": "stdout",
     "output_type": "stream",
     "text": [
      "ciag geo element 3 = 4\n",
      "ciag geo element 5, 3, 3 = 243\n"
     ]
    }
   ],
   "source": [
    "def cg(n4, a4=1, q4=2 ):\n",
    "    ciag = []\n",
    "    for x in range(n4):\n",
    "        ciag.append(a4 * q4**x)\n",
    "    return ciag[-1]\n",
    "# 1 2 4 8\n",
    "print(f'ciag geo element 3 = {cg(3)}')\n",
    "print(f'ciag geo element 5, 3, 3 = {cg(5,3,3)}')"
   ],
   "metadata": {
    "collapsed": false,
    "pycharm": {
     "name": "#%%\n"
    }
   }
  },
  {
   "cell_type": "markdown",
   "source": [
    "5. Napisz program i funkcję, która sprawa czy dane słowo jest palindromem (brzmi tak samo czytane od\n",
    "lewej do prawej i od prawej do lewej). Stwórz dwa przypadki testowe."
   ],
   "metadata": {
    "collapsed": false,
    "pycharm": {
     "name": "#%% md\n"
    }
   }
  },
  {
   "cell_type": "code",
   "execution_count": 97,
   "outputs": [
    {
     "name": "stdout",
     "output_type": "stream",
     "text": [
      "to nie jest palindrom hello != olleh\n",
      "palindrom  kajak = kajak\n"
     ]
    }
   ],
   "source": [
    "def palindrom(slowo):\n",
    "    if slowo == slowo[::-1]:\n",
    "        print(f'palindrom  {slowo} = {slowo[::-1]}')\n",
    "    else:\n",
    "        print(f'to nie jest palindrom {slowo} != {slowo[::-1]}')\n",
    "\n",
    "palindrom('hello')\n",
    "palindrom('kajak')"
   ],
   "metadata": {
    "collapsed": false,
    "pycharm": {
     "name": "#%%\n"
    }
   }
  },
  {
   "cell_type": "markdown",
   "source": [],
   "metadata": {
    "collapsed": false,
    "pycharm": {
     "name": "#%% md\n"
    }
   }
  },
  {
   "cell_type": "markdown",
   "source": [
    "6. Napisz program z funkcją, która sprawdza czy na liście elementy są posortowane od największych do\n",
    "najmniejszych (wtedy wyrzuca True, w przeciwnym wypadku False). Stwórz dwa przypadki testowe"
   ],
   "metadata": {
    "collapsed": false,
    "pycharm": {
     "name": "#%% md\n"
    }
   }
  },
  {
   "cell_type": "code",
   "execution_count": 98,
   "outputs": [
    {
     "name": "stdout",
     "output_type": "stream",
     "text": [
      "True\n",
      "False\n"
     ]
    }
   ],
   "source": [
    "zad6 = [5,4,3,2,1]\n",
    "zad6b = [1,2,3,2,1]\n",
    "def sprawdzenie(lista):\n",
    "    for x in range(len(lista)-1):\n",
    "        if lista[x]<lista[x+1]:\n",
    "            return False\n",
    "    return True\n",
    "\n",
    "print(f'{sprawdzenie(zad6)}')\n",
    "print(f'{sprawdzenie(zad6b)}')"
   ],
   "metadata": {
    "collapsed": false,
    "pycharm": {
     "name": "#%%\n"
    }
   }
  },
  {
   "cell_type": "markdown",
   "source": [
    "Biblioteka math"
   ],
   "metadata": {
    "collapsed": false,
    "pycharm": {
     "name": "#%% md\n"
    }
   }
  },
  {
   "cell_type": "code",
   "execution_count": 99,
   "outputs": [],
   "source": [
    "import math as m"
   ],
   "metadata": {
    "collapsed": false,
    "pycharm": {
     "name": "#%%\n"
    }
   }
  },
  {
   "cell_type": "code",
   "execution_count": 100,
   "outputs": [
    {
     "name": "stdout",
     "output_type": "stream",
     "text": [
      "3.4\n",
      "55.0\n",
      "6\n",
      "2\n",
      "403.428793492735\n",
      "2.321928094887362\n",
      "1.791759469228055\n",
      "4.0\n",
      "0.5235987755982989\n",
      "6.283185307179586\n"
     ]
    }
   ],
   "source": [
    "# print(m.comb(7,3)) przy wersji 3.8 nadal nie chce wyswietlic\n",
    "print(m.fabs(-3.4))\n",
    "print(m.fsum([4,9,-2,33,11]))\n",
    "def nwd(a, b):\n",
    "    if b > 0:\n",
    "        return nwd(b, a%b)\n",
    "    else:\n",
    "        return a\n",
    "print(nwd(24,6))\n",
    "print(m.floor(m.sqrt(5)))\n",
    "print(m.e**6)\n",
    "print(m.log(5,2))\n",
    "# print(m.log(5,1))  float division by zero\n",
    "print(m.log(6,m.e))\n",
    "print(m.log(625,5))\n",
    "print(m.asin(0.5))\n",
    "print(m.tau)\n"
   ],
   "metadata": {
    "collapsed": false,
    "pycharm": {
     "name": "#%%\n"
    }
   }
  },
  {
   "cell_type": "code",
   "execution_count": 100,
   "outputs": [],
   "source": [],
   "metadata": {
    "collapsed": false,
    "pycharm": {
     "name": "#%%\n"
    }
   }
  }
 ],
 "metadata": {
  "kernelspec": {
   "display_name": "Python 3",
   "language": "python",
   "name": "python3"
  },
  "language_info": {
   "codemirror_mode": {
    "name": "ipython",
    "version": 2
   },
   "file_extension": ".py",
   "mimetype": "text/x-python",
   "name": "python",
   "nbconvert_exporter": "python",
   "pygments_lexer": "ipython2",
   "version": "2.7.6"
  }
 },
 "nbformat": 4,
 "nbformat_minor": 0
}