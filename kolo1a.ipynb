{
 "cells": [
  {
   "cell_type": "markdown",
   "metadata": {
    "pycharm": {
     "name": "#%% md\n"
    }
   },
   "source": [
    "## Kolokwium 1 - Wprowadzenie do języka Python - Zestaw 1\n",
    "\n",
    "Rozwiązanie można umieścić na githubie (jako skrypt lub notatnik) lub jako archiwum zip umieść na swoim indywidualnym prywatnym kanale MS Teams pod poleceniem."
   ]
  },
  {
   "cell_type": "markdown",
   "metadata": {
    "pycharm": {
     "name": "#%% md\n"
    }
   },
   "source": [
    "Zad.1. (7pkt) Napisz program, który z ustalonej listy zawierającej 5 liczb całkowitych wyświetla w kolejnych wierszach wszystkie możliwe permutacje listy."
   ]
  },
  {
   "cell_type": "code",
   "execution_count": 24,
   "metadata": {
    "pycharm": {
     "name": "#%%\n"
    }
   },
   "outputs": [
    {
     "name": "stdout",
     "output_type": "stream",
     "text": [
      "(43, 33, 1, 5, 99)\n",
      "(43, 33, 1, 99, 5)\n",
      "(43, 33, 5, 1, 99)\n",
      "(43, 33, 5, 99, 1)\n",
      "(43, 33, 99, 1, 5)\n",
      "(43, 33, 99, 5, 1)\n",
      "(43, 1, 33, 5, 99)\n",
      "(43, 1, 33, 99, 5)\n",
      "(43, 1, 5, 33, 99)\n",
      "(43, 1, 5, 99, 33)\n",
      "(43, 1, 99, 33, 5)\n",
      "(43, 1, 99, 5, 33)\n",
      "(43, 5, 33, 1, 99)\n",
      "(43, 5, 33, 99, 1)\n",
      "(43, 5, 1, 33, 99)\n",
      "(43, 5, 1, 99, 33)\n",
      "(43, 5, 99, 33, 1)\n",
      "(43, 5, 99, 1, 33)\n",
      "(43, 99, 33, 1, 5)\n",
      "(43, 99, 33, 5, 1)\n",
      "(43, 99, 1, 33, 5)\n",
      "(43, 99, 1, 5, 33)\n",
      "(43, 99, 5, 33, 1)\n",
      "(43, 99, 5, 1, 33)\n",
      "(33, 43, 1, 5, 99)\n",
      "(33, 43, 1, 99, 5)\n",
      "(33, 43, 5, 1, 99)\n",
      "(33, 43, 5, 99, 1)\n",
      "(33, 43, 99, 1, 5)\n",
      "(33, 43, 99, 5, 1)\n",
      "(33, 1, 43, 5, 99)\n",
      "(33, 1, 43, 99, 5)\n",
      "(33, 1, 5, 43, 99)\n",
      "(33, 1, 5, 99, 43)\n",
      "(33, 1, 99, 43, 5)\n",
      "(33, 1, 99, 5, 43)\n",
      "(33, 5, 43, 1, 99)\n",
      "(33, 5, 43, 99, 1)\n",
      "(33, 5, 1, 43, 99)\n",
      "(33, 5, 1, 99, 43)\n",
      "(33, 5, 99, 43, 1)\n",
      "(33, 5, 99, 1, 43)\n",
      "(33, 99, 43, 1, 5)\n",
      "(33, 99, 43, 5, 1)\n",
      "(33, 99, 1, 43, 5)\n",
      "(33, 99, 1, 5, 43)\n",
      "(33, 99, 5, 43, 1)\n",
      "(33, 99, 5, 1, 43)\n",
      "(1, 43, 33, 5, 99)\n",
      "(1, 43, 33, 99, 5)\n",
      "(1, 43, 5, 33, 99)\n",
      "(1, 43, 5, 99, 33)\n",
      "(1, 43, 99, 33, 5)\n",
      "(1, 43, 99, 5, 33)\n",
      "(1, 33, 43, 5, 99)\n",
      "(1, 33, 43, 99, 5)\n",
      "(1, 33, 5, 43, 99)\n",
      "(1, 33, 5, 99, 43)\n",
      "(1, 33, 99, 43, 5)\n",
      "(1, 33, 99, 5, 43)\n",
      "(1, 5, 43, 33, 99)\n",
      "(1, 5, 43, 99, 33)\n",
      "(1, 5, 33, 43, 99)\n",
      "(1, 5, 33, 99, 43)\n",
      "(1, 5, 99, 43, 33)\n",
      "(1, 5, 99, 33, 43)\n",
      "(1, 99, 43, 33, 5)\n",
      "(1, 99, 43, 5, 33)\n",
      "(1, 99, 33, 43, 5)\n",
      "(1, 99, 33, 5, 43)\n",
      "(1, 99, 5, 43, 33)\n",
      "(1, 99, 5, 33, 43)\n",
      "(5, 43, 33, 1, 99)\n",
      "(5, 43, 33, 99, 1)\n",
      "(5, 43, 1, 33, 99)\n",
      "(5, 43, 1, 99, 33)\n",
      "(5, 43, 99, 33, 1)\n",
      "(5, 43, 99, 1, 33)\n",
      "(5, 33, 43, 1, 99)\n",
      "(5, 33, 43, 99, 1)\n",
      "(5, 33, 1, 43, 99)\n",
      "(5, 33, 1, 99, 43)\n",
      "(5, 33, 99, 43, 1)\n",
      "(5, 33, 99, 1, 43)\n",
      "(5, 1, 43, 33, 99)\n",
      "(5, 1, 43, 99, 33)\n",
      "(5, 1, 33, 43, 99)\n",
      "(5, 1, 33, 99, 43)\n",
      "(5, 1, 99, 43, 33)\n",
      "(5, 1, 99, 33, 43)\n",
      "(5, 99, 43, 33, 1)\n",
      "(5, 99, 43, 1, 33)\n",
      "(5, 99, 33, 43, 1)\n",
      "(5, 99, 33, 1, 43)\n",
      "(5, 99, 1, 43, 33)\n",
      "(5, 99, 1, 33, 43)\n",
      "(99, 43, 33, 1, 5)\n",
      "(99, 43, 33, 5, 1)\n",
      "(99, 43, 1, 33, 5)\n",
      "(99, 43, 1, 5, 33)\n",
      "(99, 43, 5, 33, 1)\n",
      "(99, 43, 5, 1, 33)\n",
      "(99, 33, 43, 1, 5)\n",
      "(99, 33, 43, 5, 1)\n",
      "(99, 33, 1, 43, 5)\n",
      "(99, 33, 1, 5, 43)\n",
      "(99, 33, 5, 43, 1)\n",
      "(99, 33, 5, 1, 43)\n",
      "(99, 1, 43, 33, 5)\n",
      "(99, 1, 43, 5, 33)\n",
      "(99, 1, 33, 43, 5)\n",
      "(99, 1, 33, 5, 43)\n",
      "(99, 1, 5, 43, 33)\n",
      "(99, 1, 5, 33, 43)\n",
      "(99, 5, 43, 33, 1)\n",
      "(99, 5, 43, 1, 33)\n",
      "(99, 5, 33, 43, 1)\n",
      "(99, 5, 33, 1, 43)\n",
      "(99, 5, 1, 43, 33)\n",
      "(99, 5, 1, 33, 43)\n"
     ]
    }
   ],
   "source": [
    "import itertools as i\n",
    "lista = [43,33,1,5,99]\n",
    "perm = i.permutations(lista)\n",
    "for x in perm:\n",
    "    print(x)"
   ]
  },
  {
   "cell_type": "markdown",
   "metadata": {
    "pycharm": {
     "name": "#%% md\n"
    }
   },
   "source": [
    "Zad2. (7 pkt) Wykonaj obliczenia z wykorzystaniem biblioteki `math`:\n",
    "\n",
    "* $\\log (90)$\n",
    "* $\\arcsin (\\frac{\\sqrt{3}}{2})$\n",
    "* $\\frac{x+9^x}{x+5}$, gdzie $x=\\frac{1}{2-9y}$, a za $y$ przyjmij swój numer indeksu\n",
    "* $\\binom{20}{18}$\n",
    "* sprawdź, czy $0$ i $\\sin\\pi$ są \"bliskie\" z absolutną tolerancją $10^{-9}$"
   ]
  },
  {
   "cell_type": "code",
   "execution_count": 1,
   "metadata": {
    "pycharm": {
     "name": "#%%\n"
    }
   },
   "outputs": [
    {
     "name": "stdout",
     "output_type": "stream",
     "text": [
      "1.0\n",
      "1.0471975511965976\n",
      "-1354571.8027779432\n",
      "190\n",
      "-----\n",
      "0.000000000\n",
      "0.000000001\n",
      "False\n",
      "False\n"
     ]
    }
   ],
   "source": [
    "import math\n",
    "print(math.log10(10))\n",
    "\n",
    "print(math.asin(math.sqrt(3)/2))\n",
    "x = 1/(2-9*150509)\n",
    "print(x+math.pow(9,x)/x+5)\n",
    "print(math.comb(20,18))\n",
    "print('-----')\n",
    "sin_pi = '%.9f'% math.sin(math.pi)\n",
    "liczba = '%.9f'% math.pow(10,-9)\n",
    "print(sin_pi)\n",
    "print(liczba)\n",
    "print(liczba==sin_pi)\n",
    "print(liczba==0)"
   ]
  },
  {
   "cell_type": "markdown",
   "metadata": {},
   "source": [
    "Zad.3. (7 pkt) Napisz program, który wczytuje z klawiatury liczbę całkowitą i wyświetla informację, czy wśród cyfr tej liczby jest 1."
   ]
  },
  {
   "cell_type": "code",
   "execution_count": 26,
   "metadata": {
    "pycharm": {
     "name": "#%%\n"
    }
   },
   "outputs": [
    {
     "name": "stdout",
     "output_type": "stream",
     "text": [
      "nie posiada\n"
     ]
    }
   ],
   "source": [
    "zad3 = input()\n",
    "if zad3.find('1') >=0:\n",
    "    print('posiada 1')\n",
    "else:\n",
    "    print('nie posiada')"
   ]
  },
  {
   "cell_type": "markdown",
   "metadata": {},
   "source": [
    "Zad.4. (8 pkt) Napisz funkcję, której argumentem jest krotka składająca się z dodatnich liczb całkowitych. Funkcja ma zwrócić liczbę całkowitą powstałą z liczb nieparzystych zawartych w krotce.\n",
    "\n",
    "Przykład:\n",
    "* dla krotki `(3,52,77)` funkcja ma zwrócić `377`\n",
    "* dla krotki `(4,8,12)` funkcja ma zwrócić `None`\n",
    "* dla krotki `(0,14,98,1,103)` funkcja ma zwrócić `1103`"
   ]
  },
  {
   "cell_type": "code",
   "execution_count": 27,
   "metadata": {
    "pycharm": {
     "name": "#%%\n"
    }
   },
   "outputs": [
    {
     "name": "stdout",
     "output_type": "stream",
     "text": [
      "377\n",
      "None\n",
      "1103\n"
     ]
    }
   ],
   "source": [
    "def zad4(krotka):\n",
    "    napis = ''\n",
    "    for x in krotka:\n",
    "        if x%2 == 1:\n",
    "            napis += str(x)\n",
    "    if napis:\n",
    "        return napis\n",
    "    return None\n",
    "\n",
    "aa = (3,52,77)\n",
    "bb = (4,8,12)\n",
    "cc = (0,14,98,1,103)\n",
    "print(zad4(aa))\n",
    "print(zad4(bb))\n",
    "print(zad4(cc))"
   ]
  },
  {
   "cell_type": "markdown",
   "metadata": {},
   "source": [
    "Zad. 5. (7 pkt) Napisz funkcję, której argumentem jest napis. Jeśli funkcja zawiera inne znaki niż małe litery alfabetu łacińskiego, to funkcja ma zwrócić pusty napis (`\"\"`). Wynikiem funkcji ma być szyfrogram utworzony przez przestawienie kolejnych par znaków.\n",
    "\n",
    "Przykład:\n",
    "* dla `\"olsztyn\"` ma zostać zwrócony napis `\"lozsytn\"`\n",
    "* dla `\"Olsztyn\"` ma zostać zwrócone `\"\"`"
   ]
  },
  {
   "cell_type": "code",
   "execution_count": 28,
   "metadata": {
    "pycharm": {
     "name": "#%%\n"
    }
   },
   "outputs": [
    {
     "name": "stdout",
     "output_type": "stream",
     "text": [
      "\n",
      "lozsytn\n"
     ]
    }
   ],
   "source": [
    "def zad5(napis):\n",
    "    for x in napis:\n",
    "        if ord(x)<97:\n",
    "            return ''\n",
    "    wynik = ''\n",
    "    for x in range(0,len(napis),2):\n",
    "        if x==len(napis)-1:\n",
    "            wynik+=napis[x]\n",
    "            break\n",
    "        wynik+=napis[x+1]\n",
    "        wynik+=napis[x]\n",
    "    return wynik\n",
    "\n",
    "\n",
    "print(zad5('Olsztyn'))\n",
    "print(zad5('olsztyn'))"
   ]
  },
  {
   "cell_type": "markdown",
   "metadata": {},
   "source": [
    "Zad.6. (10 pkt) Napisz rekurencyjną funkcję, zwracającą dla otrzymanej w argumencie nieujemnej liczby całkowitej $n$ wartość elementu o indeksie $n$ ciągu\n",
    "zdefiniowanego w następujący sposób:\n",
    "\n",
    "$$ a_0=1 $$\n",
    "$$a_1=2 $$\n",
    "$$ a_{2n} =2 a_n $$\n",
    "$$ a_{2n+1}= a_{2n-1} $$"
   ]
  },
  {
   "cell_type": "code",
   "execution_count": null,
   "metadata": {
    "pycharm": {
     "name": "#%%\n",
     "is_executing": true
    }
   },
   "outputs": [],
   "source": [
    "def zad6(n):\n",
    "    if n==0: return 1\n",
    "    if n==1: return 2\n",
    "    if n%2==0:\n",
    "        return zad6(n*2)\n",
    "    elif n%2==1:\n",
    "        return zad6(n-1)\n",
    "print(zad6(3))"
   ]
  },
  {
   "cell_type": "markdown",
   "metadata": {},
   "source": [
    "Zad.7. (4 pkt) Za pomocą konstrukcji związanych z formatowaniem napisów wyświetl zmienne w odpowiedni sposób zgodny z tabelką.\n",
    "\n",
    "| typ | wartość zmiennej | to co ma być wyświetlone |\n",
    "|---|---|---|\n",
    "| `int` | `345` | `+345` |\n",
    "| `float` | `0.234` | `0.2` |\n",
    "| `str` | `\"abcdefghij\"` | `\"ab\"` |"
   ]
  },
  {
   "cell_type": "code",
   "execution_count": 2,
   "metadata": {
    "pycharm": {
     "name": "#%%\n"
    }
   },
   "outputs": [
    {
     "name": "stdout",
     "output_type": "stream",
     "text": [
      "345\n",
      "0.2\n",
      "ab\n"
     ]
    }
   ],
   "source": [
    "x = \"%i\" % 345\n",
    "print(x)\n",
    "y = '%.1f'% 0.234\n",
    "print(y)\n",
    "z = '%.2s'% 'abcdefghij'\n",
    "print(z)"
   ]
  },
  {
   "cell_type": "code",
   "execution_count": null,
   "outputs": [],
   "source": [],
   "metadata": {
    "collapsed": false,
    "pycharm": {
     "name": "#%%\n",
     "is_executing": true
    }
   }
  },
  {
   "cell_type": "code",
   "execution_count": null,
   "outputs": [],
   "source": [],
   "metadata": {
    "collapsed": false,
    "pycharm": {
     "name": "#%%\n",
     "is_executing": true
    }
   }
  }
 ],
 "metadata": {
  "kernelspec": {
   "display_name": "Python 3 (ipykernel)",
   "language": "python",
   "name": "python3"
  },
  "language_info": {
   "codemirror_mode": {
    "name": "ipython",
    "version": 3
   },
   "file_extension": ".py",
   "mimetype": "text/x-python",
   "name": "python",
   "nbconvert_exporter": "python",
   "pygments_lexer": "ipython3",
   "version": "3.8.10"
  }
 },
 "nbformat": 4,
 "nbformat_minor": 1
}