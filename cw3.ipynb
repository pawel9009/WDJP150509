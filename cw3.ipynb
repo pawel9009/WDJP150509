{
 "cells": [
  {
   "cell_type": "markdown",
   "source": [
    "1. Napisz program, który wczytuje ze standardowego wejścia dwie liczby całkowite i wypisuje na standardowym wyjściu większą z nich (w przypadku gdy podane liczby są równe, program powinien wypisać\n",
    "którąkolwiek z nich).\n"
   ],
   "metadata": {
    "collapsed": false,
    "pycharm": {
     "name": "#%% md\n"
    }
   }
  },
  {
   "cell_type": "code",
   "execution_count": 11,
   "outputs": [
    {
     "name": "stdout",
     "output_type": "stream",
     "text": [
      "34\n"
     ]
    }
   ],
   "source": [
    "zad1 = input().split(' ')\n",
    "zad1_a, zad1_b = int(zad1[0]), int(zad1[1])\n",
    "if zad1_a >= zad1_b:\n",
    "    print(zad1_a)\n",
    "else:\n",
    "    print(zad1_b)"
   ],
   "metadata": {
    "collapsed": false,
    "pycharm": {
     "name": "#%%\n"
    }
   }
  },
  {
   "cell_type": "markdown",
   "source": [
    "2. Napisz program, który wczytuje ze standardowego wejścia trzy liczby całkowite i wypisuje na standardowym wyjściu największą z ich wartości (pamiętaj o przypadku gdy wszystkie podane liczby lub dwie\n",
    "z nich są równe).\n"
   ],
   "metadata": {
    "collapsed": false,
    "pycharm": {
     "name": "#%% md\n"
    }
   }
  },
  {
   "cell_type": "code",
   "execution_count": 15,
   "outputs": [
    {
     "name": "stdout",
     "output_type": "stream",
     "text": [
      "3\n"
     ]
    }
   ],
   "source": [
    "zad2 = input().split(' ')\n",
    "zad2_a, zad2_b, zad2_c = int(zad2[0]), int(zad2[1]), int(zad2[2])\n",
    "najwieksza = zad2_a\n",
    "if zad2_b >= najwieksza:\n",
    "    najwieksza = zad2_b\n",
    "if zad2_c >= najwieksza:\n",
    "    najwieksza = zad2_c\n",
    "print(najwieksza)"
   ],
   "metadata": {
    "collapsed": false,
    "pycharm": {
     "name": "#%%\n"
    }
   }
  },
  {
   "cell_type": "markdown",
   "source": [
    "3. Napisz program wczytujący ze standardowego wejścia dwie dodatnie liczby całkowite n i m, i wypisujący\n",
    "w kolejnych wierszach na standardowym wyjściu wszystkie dodatnie wielokrotności n mniejsze od m."
   ],
   "metadata": {
    "collapsed": false,
    "pycharm": {
     "name": "#%% md\n"
    }
   }
  },
  {
   "cell_type": "code",
   "execution_count": 20,
   "outputs": [
    {
     "name": "stdout",
     "output_type": "stream",
     "text": [
      "5\n",
      "10\n",
      "15\n",
      "20\n",
      "25\n",
      "30\n",
      "35\n",
      "40\n",
      "45\n",
      "50\n",
      "55\n",
      "60\n",
      "65\n",
      "70\n",
      "75\n",
      "80\n",
      "85\n",
      "90\n",
      "95\n",
      "100\n",
      "105\n",
      "110\n",
      "115\n",
      "120\n"
     ]
    }
   ],
   "source": [
    "zad3 = input().split(' ')\n",
    "zad3_a, zad3_b = int(zad3[0]), int(zad3[1])\n",
    "zad3_iterator=1\n",
    "for x in range(zad3_a, zad3_b, zad3_a*zad3_iterator):\n",
    "    print(x)\n",
    "    zad3_iterator += 1"
   ],
   "metadata": {
    "collapsed": false,
    "pycharm": {
     "name": "#%%\n"
    }
   }
  },
  {
   "cell_type": "markdown",
   "source": [
    "4. Napisz program wczytujący ze standardowego wejścia dwie dodatnie liczby całkowite n i m, i wypisujący\n",
    "na standardowym wyjściu m pierwszych wielokrotności liczby n."
   ],
   "metadata": {
    "collapsed": false
   }
  },
  {
   "cell_type": "code",
   "execution_count": 25,
   "outputs": [
    {
     "name": "stdout",
     "output_type": "stream",
     "text": [
      "5\n",
      "10\n",
      "15\n",
      "20\n",
      "25\n"
     ]
    }
   ],
   "source": [
    "zad4 = input().split(' ')\n",
    "zad4_a, zad4_b = int(zad4[0]), int(zad4[1])\n",
    "for a in range(zad4_b):\n",
    "    print(zad4_a * (a + 1))"
   ],
   "metadata": {
    "collapsed": false,
    "pycharm": {
     "name": "#%%\n"
    }
   }
  },
  {
   "cell_type": "markdown",
   "source": [
    "Napisz program wczytujący ze standardowego wejścia trzy dodatnie liczby całkowite n, m i k, i wypisujący w kolejnych wierszach wszystkie wielokrotności n większe od m i mniejsze od k."
   ],
   "metadata": {
    "collapsed": false
   }
  },
  {
   "cell_type": "code",
   "execution_count": 31,
   "outputs": [
    {
     "name": "stdout",
     "output_type": "stream",
     "text": [
      "42\n",
      "45\n",
      "48\n",
      "51\n",
      "54\n",
      "57\n",
      "60\n",
      "63\n",
      "66\n",
      "69\n",
      "72\n",
      "75\n",
      "78\n",
      "81\n",
      "84\n",
      "87\n",
      "90\n"
     ]
    }
   ],
   "source": [
    "zad5 = input().split(' ')\n",
    "zad5_a, zad5_b, zad5_c = int(zad5[0]), int(zad5[1]), int(zad5[2])\n",
    "zad5_iterator = 1\n",
    "while True:\n",
    "    pom = zad5_a*zad5_iterator\n",
    "    if pom > zad5_c:\n",
    "        break\n",
    "    if pom > zad5_b:\n",
    "        print(pom)\n",
    "    zad5_iterator += 1"
   ],
   "metadata": {
    "collapsed": false,
    "pycharm": {
     "name": "#%%\n"
    }
   }
  },
  {
   "cell_type": "markdown",
   "source": [
    "Napisz program, który wczytuje ze standardowego wejścia nieujemną liczbę całkowitą n i wypisuje na\n",
    "standardowym wyjściu element ciągu Fibonacciego o indeksie n."
   ],
   "metadata": {
    "collapsed": false
   }
  },
  {
   "cell_type": "code",
   "execution_count": 39,
   "outputs": [
    {
     "name": "stdout",
     "output_type": "stream",
     "text": [
      "55\n"
     ]
    }
   ],
   "source": [
    "zad6 = int(input())\n",
    "wyr1 = 0\n",
    "fib = None\n",
    "wyr2 = 1\n",
    "for q in range(zad6-1):\n",
    "    fib = wyr1 + wyr2\n",
    "    wyr1 = wyr2\n",
    "    wyr2 = fib\n",
    "print(fib)"
   ],
   "metadata": {
    "collapsed": false,
    "pycharm": {
     "name": "#%%\n"
    }
   }
  },
  {
   "cell_type": "markdown",
   "source": [
    ". Napisz program, który wczytuje ze standardowego wejścia nieujemną liczbę n i wypisuje na standardowym wyjściu wartość ⌊√n⌋."
   ],
   "metadata": {
    "collapsed": false
   }
  },
  {
   "cell_type": "code",
   "execution_count": 43,
   "outputs": [
    {
     "name": "stdout",
     "output_type": "stream",
     "text": [
      "2\n"
     ]
    }
   ],
   "source": [
    "zad7 = int(input())\n",
    "print(int(zad7 ** 0.5))"
   ],
   "metadata": {
    "collapsed": false,
    "pycharm": {
     "name": "#%%\n"
    }
   }
  },
  {
   "cell_type": "markdown",
   "source": [
    "8. Napisz program, który wczytuje ze standardowego wejścia nieujemną liczbę całkowitą n i wypisuje na\n",
    "standardowym wyjściu wartość 0! + 1! + . . . + n!."
   ],
   "metadata": {
    "collapsed": false
   }
  },
  {
   "cell_type": "code",
   "execution_count": 47,
   "outputs": [
    {
     "name": "stdout",
     "output_type": "stream",
     "text": [
      "1\n",
      "1\n",
      "2\n",
      "6\n",
      "10\n"
     ]
    }
   ],
   "source": [
    "zad8 = int(input())\n",
    "suma = 0\n",
    "for w in range(1,zad8):\n",
    "    silnia = 1\n",
    "    for r in range(1,w):\n",
    "        silnia *= r\n",
    "    suma += silnia\n",
    "print(suma)"
   ],
   "metadata": {
    "collapsed": false,
    "pycharm": {
     "name": "#%%\n"
    }
   }
  }
 ],
 "metadata": {
  "kernelspec": {
   "display_name": "Python 3",
   "language": "python",
   "name": "python3"
  },
  "language_info": {
   "codemirror_mode": {
    "name": "ipython",
    "version": 2
   },
   "file_extension": ".py",
   "mimetype": "text/x-python",
   "name": "python",
   "nbconvert_exporter": "python",
   "pygments_lexer": "ipython2",
   "version": "2.7.6"
  }
 },
 "nbformat": 4,
 "nbformat_minor": 0
}