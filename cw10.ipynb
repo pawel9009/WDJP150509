{
 "cells": [
  {
   "cell_type": "code",
   "execution_count": 46,
   "metadata": {
    "collapsed": true
   },
   "outputs": [],
   "source": [
    "import io"
   ]
  },
  {
   "cell_type": "markdown",
   "source": [
    "4. Napisz funkcję, która dostaje jako argument ścieżkę dostępu do pliku tekstowego i wypisuje na standardowym wyjściu zawartość pliku z pominięciem białych znaków."
   ],
   "metadata": {
    "collapsed": false,
    "pycharm": {
     "name": "#%% md\n"
    }
   }
  },
  {
   "cell_type": "code",
   "execution_count": 47,
   "outputs": [
    {
     "name": "stdout",
     "output_type": "stream",
     "text": [
      "segfsdhfusdfusdsdfsdufbsdufsdfsjdfjsdfsdfsjkdfjksdssdfjsdfssddjgbjsdsgsdgbjdsgbdsdgfdfdgsdgdsfgshsgjfshsfhsfncvpoawerqiytiqcmzklaiohsjqwppweri231y573h1273t512hnvxcvzpzazsln.,'m.plopi219i1234!@!!%&%#^fghsghsf\n"
     ]
    }
   ],
   "source": [
    "def zad4(sciezka):\n",
    "    text = ''\n",
    "    with open(sciezka, 'r') as file:\n",
    "        for znak in file.read():\n",
    "            if not znak.isspace():\n",
    "                text+=znak\n",
    "        print(text)\n",
    "\n",
    "zad4('plik.txt')"
   ],
   "metadata": {
    "collapsed": false,
    "pycharm": {
     "name": "#%%\n"
    }
   }
  },
  {
   "cell_type": "markdown",
   "source": [
    "5. Napisz funkcję, która dostaje jako argumenty ścieżkę dostępu do pliku tekstowego oraz napis długości\n",
    "1 zawierający jeden znak i zwraca jako wartość liczbę wystąpień odpowiedniego znaku w podanym w\n",
    "argumencie pliku."
   ],
   "metadata": {
    "collapsed": false,
    "pycharm": {
     "name": "#%% md\n"
    }
   }
  },
  {
   "cell_type": "code",
   "execution_count": 48,
   "outputs": [
    {
     "name": "stdout",
     "output_type": "stream",
     "text": [
      "34\n"
     ]
    }
   ],
   "source": [
    "def zad5(path, char):\n",
    "    i=0\n",
    "    with open(path, 'r') as file:\n",
    "        for znak in file.read():\n",
    "            if znak == char:\n",
    "                i += 1\n",
    "    return i\n",
    "\n",
    "print(zad5('plik.txt', 's'))"
   ],
   "metadata": {
    "collapsed": false,
    "pycharm": {
     "name": "#%%\n"
    }
   }
  },
  {
   "cell_type": "markdown",
   "source": [
    "6. Napisz funkcję, która dostaje w argumencie ścieżkę dostępu do pliku tekstowego i wypisuje na standardowym wyjściu statystyki występowania w pliku poszczególnych znaków (pozycje 0-127)."
   ],
   "metadata": {
    "collapsed": false,
    "pycharm": {
     "name": "#%% md\n"
    }
   }
  },
  {
   "cell_type": "code",
   "execution_count": 49,
   "outputs": [
    {
     "name": "stdout",
     "output_type": "stream",
     "text": [
      "znak o nr 0 (\u0000) wystepuje 0 raz\n",
      "znak o nr 1 (\u0001) wystepuje 0 raz\n",
      "znak o nr 2 (\u0002) wystepuje 0 raz\n",
      "znak o nr 3 (\u0003) wystepuje 0 raz\n",
      "znak o nr 4 (\u0004) wystepuje 0 raz\n",
      "znak o nr 5 (\u0005) wystepuje 0 raz\n",
      "znak o nr 6 (\u0006) wystepuje 0 raz\n",
      "znak o nr 7 (\u0007) wystepuje 0 raz\n",
      "znak o nr 8 ) wystepuje 0 raz\n",
      "znak o nr 9 (\t) wystepuje 0 raz\n",
      "znak o nr 10 (\n",
      ") wystepuje 3 raz\n",
      "znak o nr 11 (\u000B) wystepuje 0 raz\n",
      "znak o nr 12 (\f) wystepuje 0 raz\n",
      ") wystepuje 0 raz\n",
      "znak o nr 14 (\u000E) wystepuje 0 raz\n",
      "znak o nr 15 (\u000F) wystepuje 0 raz\n",
      "znak o nr 16 (\u0010) wystepuje 0 raz\n",
      "znak o nr 17 (\u0011) wystepuje 0 raz\n",
      "znak o nr 18 (\u0012) wystepuje 0 raz\n",
      "znak o nr 19 (\u0013) wystepuje 0 raz\n",
      "znak o nr 20 (\u0014) wystepuje 0 raz\n",
      "znak o nr 21 (\u0015) wystepuje 0 raz\n",
      "znak o nr 22 (\u0016) wystepuje 0 raz\n",
      "znak o nr 23 (\u0017) wystepuje 0 raz\n",
      "znak o nr 24 (\u0018) wystepuje 0 raz\n",
      "znak o nr 25 (\u0019) wystepuje 0 raz\n",
      "znak o nr 26 (\u001A) wystepuje 0 raz\n",
      "znak o nr 27 (\u001B) wystepuje 0 raz\n",
      "znak o nr 28 (\u001C) wystepuje 0 raz\n",
      "znak o nr 29 (\u001D) wystepuje 0 raz\n",
      "znak o nr 30 (\u001E) wystepuje 0 raz\n",
      "znak o nr 31 (\u001F) wystepuje 0 raz\n",
      "znak o nr 32 ( ) wystepuje 19 raz\n",
      "znak o nr 33 (!) wystepuje 3 raz\n",
      "znak o nr 34 (\") wystepuje 0 raz\n",
      "znak o nr 35 (#) wystepuje 1 raz\n",
      "znak o nr 36 ($) wystepuje 0 raz\n",
      "znak o nr 37 (%) wystepuje 2 raz\n",
      "znak o nr 38 (&) wystepuje 1 raz\n",
      "znak o nr 39 (') wystepuje 1 raz\n",
      "znak o nr 40 (() wystepuje 0 raz\n",
      "znak o nr 41 ()) wystepuje 0 raz\n",
      "znak o nr 42 (*) wystepuje 0 raz\n",
      "znak o nr 43 (+) wystepuje 0 raz\n",
      "znak o nr 44 (,) wystepuje 1 raz\n",
      "znak o nr 45 (-) wystepuje 0 raz\n",
      "znak o nr 46 (.) wystepuje 2 raz\n",
      "znak o nr 47 (/) wystepuje 0 raz\n",
      "znak o nr 48 (0) wystepuje 0 raz\n",
      "znak o nr 49 (1) wystepuje 5 raz\n",
      "znak o nr 50 (2) wystepuje 5 raz\n",
      "znak o nr 51 (3) wystepuje 4 raz\n",
      "znak o nr 52 (4) wystepuje 1 raz\n",
      "znak o nr 53 (5) wystepuje 2 raz\n",
      "znak o nr 54 (6) wystepuje 0 raz\n",
      "znak o nr 55 (7) wystepuje 2 raz\n",
      "znak o nr 56 (8) wystepuje 0 raz\n",
      "znak o nr 57 (9) wystepuje 1 raz\n",
      "znak o nr 58 (:) wystepuje 0 raz\n",
      "znak o nr 59 (;) wystepuje 0 raz\n",
      "znak o nr 60 (<) wystepuje 0 raz\n",
      "znak o nr 61 (=) wystepuje 0 raz\n",
      "znak o nr 62 (>) wystepuje 0 raz\n",
      "znak o nr 63 (?) wystepuje 0 raz\n",
      "znak o nr 64 (@) wystepuje 1 raz\n",
      "znak o nr 65 (A) wystepuje 0 raz\n",
      "znak o nr 66 (B) wystepuje 0 raz\n",
      "znak o nr 67 (C) wystepuje 0 raz\n",
      "znak o nr 68 (D) wystepuje 0 raz\n",
      "znak o nr 69 (E) wystepuje 0 raz\n",
      "znak o nr 70 (F) wystepuje 0 raz\n",
      "znak o nr 71 (G) wystepuje 0 raz\n",
      "znak o nr 72 (H) wystepuje 0 raz\n",
      "znak o nr 73 (I) wystepuje 0 raz\n",
      "znak o nr 74 (J) wystepuje 0 raz\n",
      "znak o nr 75 (K) wystepuje 0 raz\n",
      "znak o nr 76 (L) wystepuje 0 raz\n",
      "znak o nr 77 (M) wystepuje 0 raz\n",
      "znak o nr 78 (N) wystepuje 0 raz\n",
      "znak o nr 79 (O) wystepuje 0 raz\n",
      "znak o nr 80 (P) wystepuje 0 raz\n",
      "znak o nr 81 (Q) wystepuje 0 raz\n",
      "znak o nr 82 (R) wystepuje 0 raz\n",
      "znak o nr 83 (S) wystepuje 0 raz\n",
      "znak o nr 84 (T) wystepuje 0 raz\n",
      "znak o nr 85 (U) wystepuje 0 raz\n",
      "znak o nr 86 (V) wystepuje 0 raz\n",
      "znak o nr 87 (W) wystepuje 0 raz\n",
      "znak o nr 88 (X) wystepuje 0 raz\n",
      "znak o nr 89 (Y) wystepuje 0 raz\n",
      "znak o nr 90 (Z) wystepuje 0 raz\n",
      "znak o nr 91 ([) wystepuje 0 raz\n",
      "znak o nr 92 (\\) wystepuje 0 raz\n",
      "znak o nr 93 (]) wystepuje 0 raz\n",
      "znak o nr 94 (^) wystepuje 1 raz\n",
      "znak o nr 95 (_) wystepuje 0 raz\n",
      "znak o nr 96 (`) wystepuje 0 raz\n",
      "znak o nr 97 (a) wystepuje 3 raz\n",
      "znak o nr 98 (b) wystepuje 4 raz\n",
      "znak o nr 99 (c) wystepuje 3 raz\n",
      "znak o nr 100 (d) wystepuje 25 raz\n",
      "znak o nr 101 (e) wystepuje 3 raz\n",
      "znak o nr 102 (f) wystepuje 21 raz\n",
      "znak o nr 103 (g) wystepuje 12 raz\n",
      "znak o nr 104 (h) wystepuje 9 raz\n",
      "znak o nr 105 (i) wystepuje 6 raz\n",
      "znak o nr 106 (j) wystepuje 10 raz\n",
      "znak o nr 107 (k) wystepuje 3 raz\n",
      "znak o nr 108 (l) wystepuje 3 raz\n",
      "znak o nr 109 (m) wystepuje 2 raz\n",
      "znak o nr 110 (n) wystepuje 3 raz\n",
      "znak o nr 111 (o) wystepuje 3 raz\n",
      "znak o nr 112 (p) wystepuje 6 raz\n",
      "znak o nr 113 (q) wystepuje 3 raz\n",
      "znak o nr 114 (r) wystepuje 2 raz\n",
      "znak o nr 115 (s) wystepuje 34 raz\n",
      "znak o nr 116 (t) wystepuje 2 raz\n",
      "znak o nr 117 (u) wystepuje 4 raz\n",
      "znak o nr 118 (v) wystepuje 3 raz\n",
      "znak o nr 119 (w) wystepuje 3 raz\n",
      "znak o nr 120 (x) wystepuje 1 raz\n",
      "znak o nr 121 (y) wystepuje 2 raz\n",
      "znak o nr 122 (z) wystepuje 4 raz\n",
      "znak o nr 123 ({) wystepuje 0 raz\n",
      "znak o nr 124 (|) wystepuje 0 raz\n",
      "znak o nr 125 (}) wystepuje 0 raz\n",
      "znak o nr 126 (~) wystepuje 0 raz\n",
      "znak o nr 127 () wystepuje 0 raz\n"
     ]
    }
   ],
   "source": [
    "def zad6(path):\n",
    "    slownik = {}\n",
    "    for x in range(128):\n",
    "        slownik[x]=0\n",
    "\n",
    "    with open(path, 'r') as file:\n",
    "        for znak in file.read():\n",
    "            slownik[ord(znak)] += 1\n",
    "\n",
    "    for k,v in slownik.items():\n",
    "        print(f'znak o nr {k} ({chr(k)}) wystepuje {v} raz')\n",
    "\n",
    "zad6('plik.txt')"
   ],
   "metadata": {
    "collapsed": false,
    "pycharm": {
     "name": "#%%\n"
    }
   }
  },
  {
   "cell_type": "markdown",
   "source": [
    "8. Napisz funkcję, która dostaje jako argument ścieżkę dostępu do pliku tekstowego i zwraca jako wartość\n",
    "najczęściej występujący w pliku znak."
   ],
   "metadata": {
    "collapsed": false,
    "pycharm": {
     "name": "#%% md\n"
    }
   }
  },
  {
   "cell_type": "code",
   "execution_count": 50,
   "outputs": [
    {
     "name": "stdout",
     "output_type": "stream",
     "text": [
      "litera s wystapiła najwiecej razy = 34\n"
     ]
    }
   ],
   "source": [
    "def zad8(path):\n",
    "    slownik = {}\n",
    "    for x in range(128):\n",
    "        slownik[x]=0\n",
    "\n",
    "    with open(path, 'r') as file:\n",
    "        for znak in file.read():\n",
    "            slownik[ord(znak)] += 1\n",
    "\n",
    "    maks = 0\n",
    "    litera = ''\n",
    "    for k,v in slownik.items():\n",
    "        if v>maks:\n",
    "            maks = v\n",
    "            litera = chr(k)\n",
    "\n",
    "    print(f'litera {litera} wystapiła najwiecej razy = {maks}')\n",
    "\n",
    "zad8('plik.txt')"
   ],
   "metadata": {
    "collapsed": false,
    "pycharm": {
     "name": "#%%\n"
    }
   }
  },
  {
   "cell_type": "markdown",
   "source": [
    "9. Napisz funkcję, która dostaje jako argumenty ścieżki dostępu do dwóch plików tekstowych i zwraca\n",
    "jako wartość True, jeżeli podane pliki mają taką samą zawartość oraz False w przeciwnym wypadku."
   ],
   "metadata": {
    "collapsed": false,
    "pycharm": {
     "name": "#%% md\n"
    }
   }
  },
  {
   "cell_type": "code",
   "source": [
    "def zad9(file1, file2):\n",
    "    with open(file1 , 'r') as f1, open(file2, 'r') as f2:\n",
    "        if f1.read() == f2.read():\n",
    "            return True\n",
    "        return False\n",
    "\n",
    "\n",
    "print(zad9('aa.txt', 'bb.txt'))"
   ],
   "metadata": {
    "collapsed": false,
    "pycharm": {
     "name": "#%%\n"
    }
   },
   "execution_count": 51,
   "outputs": [
    {
     "name": "stdout",
     "output_type": "stream",
     "text": [
      "True\n"
     ]
    }
   ]
  },
  {
   "cell_type": "code",
   "execution_count": 51,
   "outputs": [],
   "source": [],
   "metadata": {
    "collapsed": false,
    "pycharm": {
     "name": "#%%\n"
    }
   }
  }
 ],
 "metadata": {
  "kernelspec": {
   "display_name": "Python 3",
   "language": "python",
   "name": "python3"
  },
  "language_info": {
   "codemirror_mode": {
    "name": "ipython",
    "version": 2
   },
   "file_extension": ".py",
   "mimetype": "text/x-python",
   "name": "python",
   "nbconvert_exporter": "python",
   "pygments_lexer": "ipython2",
   "version": "2.7.6"
  }
 },
 "nbformat": 4,
 "nbformat_minor": 0
}