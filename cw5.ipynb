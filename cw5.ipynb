{
 "cells": [
  {
   "cell_type": "code",
   "execution_count": 51,
   "metadata": {
    "collapsed": true
   },
   "outputs": [
    {
     "name": "stdout",
     "output_type": "stream",
     "text": [
      "1 - g\n",
      "6 - a\n",
      "34 - q\n",
      "44 - y\n",
      "93 - e\n",
      "-----------------------------\n",
      "a - 6\n",
      "e - 93\n",
      "g - 1\n",
      "q - 34\n",
      "y - 44\n"
     ]
    }
   ],
   "source": [
    "def Key(val, dict):\n",
    "   for key, value in dict.items():\n",
    "      if val == value:\n",
    "         return key\n",
    "\n",
    "zad1 = { 1:'g', 34:'q', 6:'a', 93:'e', 44:'y' }\n",
    "klucze = list(zad1.keys())\n",
    "wartosci = list(zad1.values())\n",
    "for k in sorted(klucze):\n",
    "    print(f'{k} - {zad1[k]}')\n",
    "print('-----------------------------')\n",
    "for v in sorted(wartosci):\n",
    "    print(f'{v} - {Key(v,zad1)}')"
   ]
  },
  {
   "cell_type": "code",
   "execution_count": 52,
   "outputs": [
    {
     "name": "stdout",
     "output_type": "stream",
     "text": [
      "slownik 1 =  {1: '1', 3: '3', 6: '6', 2: '2', 11: '11', 8: '8'}\n",
      "slownik 2 =  {1: None, 4: '4', 6: None, 15: '15', 11: None, 7: '7'}\n",
      "nowy =  {1: '1', 3: '3', 6: '6', 2: '2', 11: '11', 8: '8', 4: '4', 15: '15', 7: '7'}\n"
     ]
    }
   ],
   "source": [
    "slownik1 = {1 : '1',3 : '3',6 : '6',2 : '2',11 : '11',8 : '8', }\n",
    "slownik2 = {1 : '1',4 : '4',6 : '6',15 : '15',11 : '11',7 : '7', }\n",
    "\n",
    "new = slownik1.copy()\n",
    "for k,v in slownik2.items():\n",
    "    if k not in slownik1:\n",
    "        new[k]=v\n",
    "    else:\n",
    "        slownik2[k]= None\n",
    "print('slownik 1 = ',slownik1)\n",
    "print('slownik 2 = ',slownik2)\n",
    "print('nowy = ',new)"
   ],
   "metadata": {
    "collapsed": false,
    "pycharm": {
     "name": "#%%\n"
    }
   }
  },
  {
   "cell_type": "code",
   "execution_count": 53,
   "outputs": [
    {
     "name": "stdout",
     "output_type": "stream",
     "text": [
      "zad3 suma wartosci -  1042\n",
      "--------------------------\n",
      "losowy napis fdterola`a\n"
     ]
    }
   ],
   "source": [
    "import random\n",
    "zad3 = {}\n",
    "for x in range(10):\n",
    "    zad3[x] = random.randint(95,121)\n",
    "suma = 0\n",
    "napis = ''\n",
    "for k,v in zad3.items():\n",
    "    suma += v\n",
    "    napis += chr(v)\n",
    "print('zad3 suma wartosci - ', suma)\n",
    "print('--------------------------')\n",
    "print('losowy napis',napis)"
   ],
   "metadata": {
    "collapsed": false,
    "pycharm": {
     "name": "#%%\n"
    }
   }
  },
  {
   "cell_type": "code",
   "execution_count": 54,
   "outputs": [
    {
     "name": "stdout",
     "output_type": "stream",
     "text": [
      "zad4 -  DXXXIV\n"
     ]
    }
   ],
   "source": [
    "zad4 = {  1000:'M',900:'CM',500:'D', 400:'CD', 100:'C' ,90:'XC',50:'L',40:'XL',  10:'X', 9:'IX', 5:'V', 4:'IV',1:'I'}\n",
    "\n",
    "num = ''\n",
    "l = 534\n",
    "while l > 0:\n",
    "    for k,v in zad4.items():\n",
    "        while l >= k:\n",
    "            num += v\n",
    "            l -= k\n",
    "print('zad4 - ',num)\n"
   ],
   "metadata": {
    "collapsed": false,
    "pycharm": {
     "name": "#%%\n"
    }
   }
  },
  {
   "cell_type": "code",
   "execution_count": 55,
   "outputs": [
    {
     "name": "stdout",
     "output_type": "stream",
     "text": [
      "zad5 krotki sa niemutowalne\n",
      "zad6  1775\n"
     ]
    }
   ],
   "source": [
    "tup = (1,54,3,3)\n",
    "print('zad5 krotki sa niemutowalne')\n",
    "zad6 = (1,7,7,5)\n",
    "liczba = 0\n",
    "for x in range(0,len(zad6)):\n",
    "    potega = (len(zad6)-x)-1\n",
    "    liczba += zad6[x]*(10**potega)\n",
    "print('zad6 ', liczba)"
   ],
   "metadata": {
    "collapsed": false,
    "pycharm": {
     "name": "#%%\n"
    }
   }
  },
  {
   "cell_type": "code",
   "execution_count": 56,
   "outputs": [
    {
     "name": "stdout",
     "output_type": "stream",
     "text": [
      "zad7  (2, 4, 6, 8, 10, 12, 14, 16, 18, 20, 22, 24, 26, 28, 30, 32, 34, 36, 38, 40, 42, 44, 46, 48, 50)\n"
     ]
    }
   ],
   "source": [
    "zad7 = tuple([x for x in range(2,51,2)])\n",
    "print('zad7 ',zad7)"
   ],
   "metadata": {
    "collapsed": false,
    "pycharm": {
     "name": "#%%\n"
    }
   }
  },
  {
   "cell_type": "markdown",
   "source": [],
   "metadata": {
    "collapsed": false
   }
  },
  {
   "cell_type": "code",
   "execution_count": 57,
   "outputs": [
    {
     "name": "stdout",
     "output_type": "stream",
     "text": [
      "fgg\n",
      "aaa\n",
      "dffdf\n",
      "4545\n",
      "343\n"
     ]
    }
   ],
   "source": [
    "s1 = set(['aaa','343','dffdf','4545','fgg'])\n",
    "s2 = set(['f','rrrr','dffdf','sdssdfsdfsddf','3333333','fgg'])\n",
    "for x in s1:\n",
    "    print(x)\n",
    "\n",
    "s3 = s1.copy()"
   ],
   "metadata": {
    "collapsed": false,
    "pycharm": {
     "name": "#%%\n"
    }
   }
  },
  {
   "cell_type": "code",
   "execution_count": 58,
   "outputs": [
    {
     "name": "stdout",
     "output_type": "stream",
     "text": [
      "suma  {'fgg', 'aaa', '3333333', 'dffdf', '4545', 'sdssdfsdfsddf', '343', 'f', 'rrrr'}\n"
     ]
    }
   ],
   "source": [
    "print('suma ', s1.union(s2))\n",
    "\n"
   ],
   "metadata": {
    "collapsed": false,
    "pycharm": {
     "name": "#%%\n"
    }
   }
  },
  {
   "cell_type": "code",
   "execution_count": 59,
   "outputs": [
    {
     "name": "stdout",
     "output_type": "stream",
     "text": [
      "czesc wspolna  {'fgg', 'dffdf'}\n"
     ]
    }
   ],
   "source": [
    "print('czesc wspolna ' ,s1.intersection(s2))"
   ],
   "metadata": {
    "collapsed": false,
    "pycharm": {
     "name": "#%%\n"
    }
   }
  },
  {
   "cell_type": "code",
   "execution_count": 60,
   "outputs": [
    {
     "name": "stdout",
     "output_type": "stream",
     "text": [
      "ilosc elementów w s2 =  6\n"
     ]
    }
   ],
   "source": [
    "i = 0\n",
    "for a in s2:\n",
    "    i += 1\n",
    "print('ilosc elementów w s2 = ',i)"
   ],
   "metadata": {
    "collapsed": false,
    "pycharm": {
     "name": "#%%\n"
    }
   }
  },
  {
   "cell_type": "code",
   "execution_count": 60,
   "outputs": [],
   "source": [],
   "metadata": {
    "collapsed": false,
    "pycharm": {
     "name": "#%%\n"
    }
   }
  }
 ],
 "metadata": {
  "kernelspec": {
   "display_name": "Python 3",
   "language": "python",
   "name": "python3"
  },
  "language_info": {
   "codemirror_mode": {
    "name": "ipython",
    "version": 2
   },
   "file_extension": ".py",
   "mimetype": "text/x-python",
   "name": "python",
   "nbconvert_exporter": "python",
   "pygments_lexer": "ipython2",
   "version": "2.7.6"
  }
 },
 "nbformat": 4,
 "nbformat_minor": 0
}