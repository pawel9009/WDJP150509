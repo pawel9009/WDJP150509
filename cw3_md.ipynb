{
 "cells": [
  {
   "cell_type": "markdown",
   "metadata": {
    "collapsed": true,
    "pycharm": {
     "name": "#%% md\n"
    }
   },
   "source": [
    "# Tytuł notatnika\n",
    "\n",
    "asdasdasdasd\n",
    "\n",
    "## 2 poziom\n",
    "\n",
    "dfffffffffffffffff\n",
    "\n",
    "### wzor $x^2$\n",
    "\n",
    "dffffffffffffff\n",
    "\n",
    "#### $sd$\n",
    "\n",
    "## Bold\n",
    "\n",
    "**Don't** put tabs or spaces in front of your paragraphs.\n",
    "\n",
    "Keep lines left-aligned **like this**.\n",
    "\n",
    "# Italic\n",
    "\n",
    "Italicized *text is the cat's meow*.\n",
    "asdasdasddasasd*sdads*sdasdad\n",
    "\n",
    "### Both\n",
    "\n",
    "lorem ipsum ***sdadadasdasd*** asda\n",
    "\n",
    "## Blockquotes\n",
    "\n",
    "asdasdasd\n",
    "\n",
    "> sadadasd\n",
    "> fdsfd\n",
    "\n",
    "asddas\n",
    "\n",
    "# List\n",
    "\n",
    "1. first\n",
    "2. seco\n",
    "1.sdasd\n",
    "3. third\n",
    "\n",
    "### Unorded\n",
    "\n",
    "- First\n",
    "- Second\n",
    "- asdasd\n",
    "\n",
    "# images\n",
    "\n",
    "1. Open the file containing the Linux mascot.\n",
    "2. Marvel at its beauty.\n",
    "\n",
    "    ![Tux, the Linux mascot](/assets/images/tux.png)\n",
    "\n",
    "3. Close the file.\n"
   ]
  }
 ],
 "metadata": {
  "kernelspec": {
   "display_name": "Python 3",
   "language": "python",
   "name": "python3"
  },
  "language_info": {
   "codemirror_mode": {
    "name": "ipython",
    "version": 2
   },
   "file_extension": ".py",
   "mimetype": "text/x-python",
   "name": "python",
   "nbconvert_exporter": "python",
   "pygments_lexer": "ipython2",
   "version": "2.7.6"
  }
 },
 "nbformat": 4,
 "nbformat_minor": 0
}