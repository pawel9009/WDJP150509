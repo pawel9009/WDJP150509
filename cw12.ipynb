{
 "cells": [
  {
   "cell_type": "markdown",
   "metadata": {
    "collapsed": true,
    "pycharm": {
     "name": "#%% md\n"
    }
   },
   "source": [
    "1. Stwórz listę, w której elementy powstały przez wylosowanie 6 liczb wymiernych z przedziału [0, 1)."
   ]
  },
  {
   "cell_type": "code",
   "execution_count": 1,
   "outputs": [
    {
     "name": "stdout",
     "output_type": "stream",
     "text": [
      "[0.5690914645811195, 0.6405857196489354, 0.6778743904736259, 0.40079922367644016, 0.14245730094535314, 0.4222669817119151]\n"
     ]
    }
   ],
   "source": [
    "import random as r\n",
    "\n",
    "zad1 = [ r.random() for x in range(6)]\n",
    "print(zad1)"
   ],
   "metadata": {
    "collapsed": false,
    "pycharm": {
     "name": "#%%\n"
    }
   }
  },
  {
   "cell_type": "markdown",
   "source": [
    "2. Stwórz listę powstałą przez wylosowanie 6 liczb całkowitych z przedziału [55, 84] (z obu stron przedział\n",
    "domknięty)."
   ],
   "metadata": {
    "collapsed": false,
    "pycharm": {
     "name": "#%% md\n"
    }
   }
  },
  {
   "cell_type": "code",
   "execution_count": 2,
   "outputs": [
    {
     "name": "stdout",
     "output_type": "stream",
     "text": [
      "[63, 59, 82, 56, 64, 59]\n"
     ]
    }
   ],
   "source": [
    "zad2 = [ r.randint(55,85) for x in range(6)]\n",
    "print(zad2)"
   ],
   "metadata": {
    "collapsed": false,
    "pycharm": {
     "name": "#%%\n"
    }
   }
  },
  {
   "cell_type": "markdown",
   "source": [
    "3. Napisz funkcję, której argumentem jest liczba całkowita n. Wewnątrz funkcji stwórz 20-elementową\n",
    "listę powstałą przez wylosowanie liczb z przedziału [−100, 100]. Funkcja ma zwrócić elementy listy,\n",
    "który jest najbliżej n. Stwórz przypadek testowy."
   ],
   "metadata": {
    "collapsed": false,
    "pycharm": {
     "name": "#%% md\n"
    }
   }
  },
  {
   "cell_type": "code",
   "execution_count": 3,
   "outputs": [
    {
     "name": "stdout",
     "output_type": "stream",
     "text": [
      "[80, -44, 96, 51, -91, -86, 28, -8, -75, 34, 64, -70, -83, 94, -58, -44, 67, -42, -82, 23]\n",
      "najblizej liczbie 65 w liscie jest 64\n"
     ]
    }
   ],
   "source": [
    "def zad3(n):\n",
    "    lista = [r.randint(-100,101) for x in range(20)]\n",
    "    pom = 999\n",
    "    index = None\n",
    "    print(lista)\n",
    "    for x in lista:\n",
    "\n",
    "        if abs(x-n) < pom:\n",
    "            pom = abs(x-n)\n",
    "            index = lista.index(x)\n",
    "    return lista[index]\n",
    "\n",
    "a = 65\n",
    "print(f'najblizej liczbie {a} w liscie jest {zad3(a)}')"
   ],
   "metadata": {
    "collapsed": false,
    "pycharm": {
     "name": "#%%\n"
    }
   }
  },
  {
   "cell_type": "markdown",
   "source": [
    "4. Stwórz 10-elementową listę, której elementy są wygenerowane zgodnie z rozkładem normalnym o średniej\n",
    "5 i odchyleniu standardowym 0.25."
   ],
   "metadata": {
    "collapsed": false,
    "pycharm": {
     "name": "#%% md\n"
    }
   }
  },
  {
   "cell_type": "code",
   "execution_count": 4,
   "outputs": [
    {
     "name": "stdout",
     "output_type": "stream",
     "text": [
      "[4.891415246153731, 4.800970311194196, 4.666429671328402, 5.150972447431627, 5.118413758585991, 5.278930557747364, 4.988873227206035, 5.290641370836953, 5.113141050206823, 4.866180346571064]\n"
     ]
    }
   ],
   "source": [
    "zad4 = [r.normalvariate(5,0.25) for x in range(10)]\n",
    "print(zad4)"
   ],
   "metadata": {
    "collapsed": false,
    "pycharm": {
     "name": "#%%\n"
    }
   }
  },
  {
   "cell_type": "markdown",
   "source": [
    "5. Stwórz 10-elementową listę, której elementy są wygenerowane zgodnie z rozkładem normalnym o średniej\n",
    "5 i wariancji 0.25"
   ],
   "metadata": {
    "collapsed": false,
    "pycharm": {
     "name": "#%% md\n"
    }
   }
  },
  {
   "cell_type": "code",
   "execution_count": 5,
   "outputs": [
    {
     "name": "stdout",
     "output_type": "stream",
     "text": [
      "[4.972982529907508, 4.87816986154958, 5.087293175201887, 4.943147217272527, 4.997545643962688, 4.957659294201894, 5.066294553651199, 4.983280009323024, 4.916679629357397, 4.98132117652714]\n"
     ]
    }
   ],
   "source": [
    "zad5 = [r.normalvariate(5,0.25**2) for x in range(10)]\n",
    "print(zad5)"
   ],
   "metadata": {
    "collapsed": false,
    "pycharm": {
     "name": "#%%\n"
    }
   }
  },
  {
   "cell_type": "markdown",
   "source": [
    "Stwórz 4-elementową listę, której elementy są wylosowane z przedziału [100, 200] oraz są jednocześnie\n",
    "podzielne przez 3."
   ],
   "metadata": {
    "collapsed": false,
    "pycharm": {
     "name": "#%% md\n"
    }
   }
  },
  {
   "cell_type": "code",
   "execution_count": 6,
   "outputs": [
    {
     "name": "stdout",
     "output_type": "stream",
     "text": [
      "[144, 150, 195, 177]\n"
     ]
    }
   ],
   "source": [
    "zad6 = []\n",
    "while len(zad6)<4:\n",
    "    q = r.randint(100,201)\n",
    "    if q % 3 == 0:\n",
    "        zad6.append(q)\n",
    "print(zad6)"
   ],
   "metadata": {
    "collapsed": false,
    "pycharm": {
     "name": "#%%\n"
    }
   }
  },
  {
   "cell_type": "markdown",
   "source": [
    "7. Napisz program, w którym na początku jest wylosowany napis składający się 5 znaków będących małymi\n",
    "literami alfabetu łacińskiego. Zadaniem użytkownika jest zgadnięcie ciągu znaków poprzez kolejne\n",
    "próby wpisywane na standardowym wejściu. Dla ułatwienia wyświetl komunikat czy wprowadzony ciąg\n",
    "znaków jest wcześniej lub później (w porządku leksykograficznym)."
   ],
   "metadata": {
    "collapsed": false,
    "pycharm": {
     "name": "#%% md\n"
    }
   }
  },
  {
   "cell_type": "code",
   "execution_count": 8,
   "outputs": [
    {
     "name": "stdout",
     "output_type": "stream",
     "text": [
      "poprawny znak w prawo o  5\n",
      "prawidlowo\n",
      "poprawne litery:  l\n",
      "\n",
      "poprawny znak w prawo o  1\n",
      "prawidlowo\n",
      "poprawne litery:  lh\n",
      "\n",
      "poprawny znak w prawo o  3\n",
      "prawidlowo\n",
      "poprawne litery:  lhk\n",
      "\n",
      "poprawny znak w lewo o  2\n",
      "prawidlowo\n",
      "poprawne litery:  lhki\n",
      "\n",
      "poprawny znak w lewo o  5\n",
      "poprawny znak w lewo o  4\n",
      "poprawny znak w lewo o  3\n",
      "poprawny znak w lewo o  1\n",
      "prawidlowo\n",
      "poprawne litery:  lhkic\n",
      "\n",
      "udalo ci sie odgadnac haslo ktorym bylo - lhkic\n"
     ]
    }
   ],
   "source": [
    "slowo = ''\n",
    "import time\n",
    "for x in range(5):\n",
    "    slowo+= chr(r.randint(97,122))\n",
    "odpowiedz = ''\n",
    "\n",
    "for char in slowo:\n",
    "    odp = ''\n",
    "    while odp!=char:\n",
    "        odp = input(\"podaj znak: \")\n",
    "        if odp==char:\n",
    "            odpowiedz+=odp\n",
    "            print(\"prawidlowo\")\n",
    "            break\n",
    "        i_odp = ord(odp)\n",
    "        i_char = ord(char)\n",
    "        if i_odp>i_char:\n",
    "            print('poprawny znak w lewo o ',abs(i_odp-i_char))\n",
    "        else:\n",
    "            print('poprawny znak w prawo o ',abs(i_odp-i_char))\n",
    "\n",
    "        time.sleep(2)\n",
    "    print('poprawne litery: ',odpowiedz)\n",
    "    print()\n",
    "print('udalo ci sie odgadnac haslo ktorym bylo -', odpowiedz)"
   ],
   "metadata": {
    "collapsed": false,
    "pycharm": {
     "name": "#%%\n"
    }
   }
  },
  {
   "cell_type": "markdown",
   "source": [
    "8. Stwórz 100-elementową listę, składającą się z napisów długości 5 wylosowanych z dużych liter alfabetu\n",
    "łacińskiego. Następnie policz ile napisów i wyświetl i napisów zawiera tylko samogłoski."
   ],
   "metadata": {
    "collapsed": false,
    "pycharm": {
     "name": "#%% md\n"
    }
   }
  },
  {
   "cell_type": "code",
   "execution_count": 40,
   "outputs": [
    {
     "name": "stdout",
     "output_type": "stream",
     "text": [
      "['ABPQI', 'PBLEY', 'ZKFVR', 'UXTRX', 'XPFOH', 'QFDZQ', 'TGUZJ', 'YNXSI', 'XFOPV', 'SZWWU', 'CIMBL', 'BLFXK', 'KQIBX', 'LNFCY', 'RPMQM', 'VYHXB', 'MYFBH', 'HIYCE', 'NPTXV', 'TUQUW', 'AJJGX', 'SCLLT', 'KDVEJ', 'FPIZW', 'IJADI', 'XDQHX', 'IFQVE', 'YKTNN', 'AQHLE', 'EEIYO', 'TZUKW', 'AQSZN', 'QBIJV', 'OYRRH', 'RYTYR', 'ZUWOF', 'ZJFZM', 'ARPHB', 'VGLYM', 'NNCRR', 'LOHJE', 'WRUES', 'BCGJZ', 'KIJWK', 'VGSYS', 'RMBEF', 'OMZXB', 'RZYPX', 'IBTVO', 'AYERD', 'ACCZH', 'OWJDX', 'FQAZW', 'NDOTH', 'IZPLG', 'YLGMO', 'YQJHQ', 'BBNWU', 'OVJNJ', 'STTWK', 'OCTLY', 'KYMKQ', 'MPILO', 'ZLXQM', 'JJCLE', 'HAICB', 'OLEZO', 'VVYNL', 'IWYZQ', 'GZGVL', 'JEKAT', 'UTWOF', 'HOHHL', 'YDZXJ', 'PHQIC', 'UQBEE', 'LJYJO', 'SMHIT', 'JOWMU', 'SKCOW', 'ANSYS', 'TCGZF', 'IJIND', 'SLWEI', 'IIPZH', 'IGYXR', 'QVGYB', 'MHTYC', 'YFDKD', 'KFDIS', 'FJCZL', 'EQDIZ', 'URPOH', 'UOBCN', 'ZJTVE', 'QDILD', 'ETKOV', 'GHAFT', 'FRXJH', 'SWIFB']\n",
      "EEIYO\n",
      "1\n"
     ]
    }
   ],
   "source": [
    "zad8 = []\n",
    "for x in range(100):\n",
    "    string  = ''\n",
    "    for a in range(5):\n",
    "        string+= chr(r.randint(65,90))\n",
    "    zad8.append(string)\n",
    "\n",
    "print(zad8)\n",
    "samogloski = ['A','E','I','O','U','Y']\n",
    "\n",
    "i = 0\n",
    "for wyraz in zad8:\n",
    "    full_gloski = True\n",
    "    for litera in wyraz:\n",
    "        if litera not in samogloski:\n",
    "            full_gloski = False\n",
    "    if full_gloski:\n",
    "        i+=1\n",
    "        print(wyraz)\n",
    "\n",
    "print(i)\n",
    "\n",
    "\n"
   ],
   "metadata": {
    "collapsed": false,
    "pycharm": {
     "name": "#%%\n"
    }
   }
  }
 ],
 "metadata": {
  "kernelspec": {
   "display_name": "Python 3",
   "language": "python",
   "name": "python3"
  },
  "language_info": {
   "codemirror_mode": {
    "name": "ipython",
    "version": 2
   },
   "file_extension": ".py",
   "mimetype": "text/x-python",
   "name": "python",
   "nbconvert_exporter": "python",
   "pygments_lexer": "ipython2",
   "version": "2.7.6"
  }
 },
 "nbformat": 4,
 "nbformat_minor": 0
}