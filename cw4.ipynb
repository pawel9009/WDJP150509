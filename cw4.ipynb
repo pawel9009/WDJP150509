{
 "nbformat": 4,
 "nbformat_minor": 0,
 "metadata": {
  "colab": {
   "name": "Untitled0.ipynb",
   "provenance": []
  },
  "kernelspec": {
   "name": "python3",
   "display_name": "Python 3"
  },
  "language_info": {
   "name": "python"
  }
 },
 "cells": [
  {
   "cell_type": "code",
   "execution_count": 70,
   "metadata": {
    "colab": {
     "base_uri": "https://localhost:8080/"
    },
    "id": "0S3PrQu7FM4L",
    "outputId": "9d2cce28-55d1-4e5f-83ab-f46cfe024550"
   },
   "outputs": [
    {
     "output_type": "stream",
     "name": "stdout",
     "text": [
      "10168\n",
      "Najmniejsza wbudowana f 1\n",
      "Najmniejsza normalnie 1\n",
      "Najwieksza wbudowana f 100\n",
      "Najwieksza normalnie 100\n",
      "mediana 53\n",
      "1 2 2 2 2 2 3 3 4 4 4 4 4 4 5 5 6 7 7 8 \n",
      "\n",
      "1 2 2 2 2 2 3 3 4 4 4 4 4 4 5 5 6 7 7 8 \n",
      "\n",
      "zad6 - 20469865257418655652943071672547227705213039225569733001902706677483515930944528253393671466557024605981740878826116164525088623829350197962277061943047843338987871272294454782689843320709799603042655006167438705949114266189947275247480939591191865976157667665589655367057408000000000000000000000000000000000000000\n",
      "zad7 - liczba liczb 3 cyfrowych 1\n",
      "[1, 2, 2, 2, 2, 2, 3, 3, 4, 4, 4, 4, 4, 4, 5, 5, 6, 7, 7, 8, 8, 10, 10, 10, 10, 10, 11, 11, 11, 13, 13, 14, 15, 15, 16, 16, 17, 18, 19, 20, 20, 21, 22, 22, 23, 23, 24, 25, 25, 26, 26, 26, 26, 27, 27, 27, 28, 30, 30, 31, 31, 31, 31, 32, 32, 33, 33, 33, 34, 35, 36, 37, 37, 37, 38, 38, 41, 41, 42, 42, 43, 43, 43, 43, 45, 45, 45, 46, 47, 47, 48, 50, 50, 51, 52, 52, 52, 52, 52, 53, 53, 54, 54, 54, 55, 55, 55, 56, 56, 57, 58, 59, 59, 59, 59, 59, 60, 61, 61, 62, 62, 62, 63, 64, 64, 65, 66, 66, 67, 67, 68, 68, 69, 69, 70, 71, 71, 71, 72, 72, 72, 72, 72, 72, 72, 73, 73, 74, 74, 76, 77, 77, 78, 78, 79, 79, 79, 80, 80, 81, 81, 82, 82, 82, 84, 84, 86, 86, 86, 87, 88, 88, 88, 88, 89, 89, 89, 89, 90, 91, 91, 91, 91, 91, 92, 92, 94, 95, 95, 95, 96, 96, 96, 96, 97, 97, 97, 99, 99, 100]\n",
      "zad 8  - liczba 72 wystepuje 7\n",
      "zad9 - unikalne wartosci  19 1 24 48 60 94 63 87 70 46 35 34 58 65 28 14 100 76 51 17 6 57 18 21 90 36 \n",
      "\n",
      "zad10 - wartosci powtarzajace sie 3 razy  33 45 37 11 54 27 62 82 86 71 97 55 95 79 \n",
      "\n"
     ]
    }
   ],
   "source": [
    "import random\n",
    "random.seed(150509)\n",
    "randomlist = []\n",
    "for a in range(200):\n",
    "  randomlist.append(random.randint(0,100))\n",
    "zad1_suma = 0\n",
    "zad2_minimum =randomlist[0]\n",
    "zad3_maximum =randomlist[0]\n",
    "for x in randomlist:\n",
    "  zad1_suma += x\n",
    "  if x <= zad2_minimum:\n",
    "    zad2_minimum = x\n",
    "  if x >= zad3_maximum:\n",
    "    zad3_maximum = x\n",
    "print(zad1_suma)\n",
    "\n",
    "print(f'Najmniejsza wbudowana f {min(randomlist)}')\n",
    "print(f'Najmniejsza normalnie {zad2_minimum}')\n",
    "\n",
    "print(f'Najwieksza wbudowana f {max(randomlist)}')\n",
    "print(f'Najwieksza normalnie {zad3_maximum}')\n",
    "\n",
    "\n",
    "posortowana = sorted(randomlist.copy())\n",
    "print(f'mediana {posortowana[100]}')\n",
    "\n",
    "zad5 = randomlist.copy()\n",
    "zad5_lista1 = sorted(zad5)\n",
    "zad5_lista2 = zad5\n",
    "\n",
    "for q in range(20):\n",
    "  print(zad5_lista1[q], end=' ')\n",
    "print('\\n')\n",
    "for w in range(len(zad5_lista2)):\n",
    "  for e in range(len(zad5_lista2)-1):\n",
    "    if zad5_lista2[e] > zad5_lista2[e+1]:\n",
    "      pom = zad5_lista2[e]\n",
    "      zad5_lista2[e] = zad5_lista2[e+1]\n",
    "      zad5_lista2[e+1] = pom\n",
    "for r in range(20):\n",
    "  print(zad5_lista2[r], end=' ')\n",
    "print('\\n')\n",
    "\n",
    "zad6 = 1\n",
    "for t in randomlist:\n",
    "  zad6 *= t\n",
    "print(f'zad6 - {zad6}')\n",
    "\n",
    "\n",
    "zad7 = 0\n",
    "for y in randomlist:\n",
    "  if y>=100:\n",
    "    zad7+=1\n",
    "print(f'zad7 - liczba liczb 3 cyfrowych {zad7}')\n",
    " \n",
    "zad8 = 0\n",
    "zad8_cyfra = 0\n",
    "for u in randomlist:\n",
    "  if randomlist.count(u)> zad8:\n",
    "    zad8 = randomlist.count(u)\n",
    "    zad8_cyfra = u\n",
    "print(posortowana)\n",
    "print(f'zad 8  - liczba {zad8_cyfra} wystepuje {zad8}')\n",
    "print('zad9 - unikalne wartosci ', end=' ')\n",
    "for i in randomlist:\n",
    "  if randomlist.count(i)==1:\n",
    "    print(i, end=' ')\n",
    "print('\\n')\n",
    "print('zad10 - wartosci powtarzajace sie 3 razy ', end=' ')\n",
    "zad10 = []\n",
    "for i in randomlist:\n",
    "  if randomlist.count(i)==3:\n",
    "    if i not in zad10:\n",
    "      zad10.append(i)\n",
    "for i in zad10:\n",
    "  print(i, end=' ')\n",
    "print('\\n')"
   ]
  },
  {
   "cell_type": "code",
   "execution_count": null,
   "outputs": [],
   "source": [],
   "metadata": {
    "collapsed": false,
    "pycharm": {
     "name": "#%%\n"
    }
   }
  }
 ]
}