{
 "cells": [
  {
   "cell_type": "markdown",
   "metadata": {
    "collapsed": true,
    "pycharm": {
     "name": "#%% md\n"
    }
   },
   "source": [
    "1. Stwórz listę, w której elementy powstały przez wylosowanie 6 liczb wymiernych z przedziału [0, 1)."
   ]
  },
  {
   "cell_type": "code",
   "execution_count": 3,
   "outputs": [
    {
     "name": "stdout",
     "output_type": "stream",
     "text": [
      "[0.8485829631592334, 0.13887931423224742, 0.06067918024271357, 0.23072351893429888, 0.35817508483968363, 0.9021560466851369]\n"
     ]
    }
   ],
   "source": [
    "import random as r\n",
    "\n",
    "zad1 = [ r.random() for x in range(6)]\n",
    "print(zad1)"
   ],
   "metadata": {
    "collapsed": false,
    "pycharm": {
     "name": "#%%\n"
    }
   }
  },
  {
   "cell_type": "markdown",
   "source": [
    "2. Stwórz listę powstałą przez wylosowanie 6 liczb całkowitych z przedziału [55, 84] (z obu stron przedział\n",
    "domknięty)."
   ],
   "metadata": {
    "collapsed": false,
    "pycharm": {
     "name": "#%% md\n"
    }
   }
  },
  {
   "cell_type": "code",
   "execution_count": 25,
   "outputs": [
    {
     "name": "stdout",
     "output_type": "stream",
     "text": [
      "[85, 82, 79, 82, 66, 78]\n"
     ]
    }
   ],
   "source": [
    "zad2 = [ r.randint(55,85) for x in range(6)]\n",
    "print(zad2)"
   ],
   "metadata": {
    "collapsed": false,
    "pycharm": {
     "name": "#%%\n"
    }
   }
  },
  {
   "cell_type": "markdown",
   "source": [
    "3. Napisz funkcję, której argumentem jest liczba całkowita n. Wewnątrz funkcji stwórz 20-elementową\n",
    "listę powstałą przez wylosowanie liczb z przedziału [−100, 100]. Funkcja ma zwrócić elementy listy,\n",
    "który jest najbliżej n. Stwórz przypadek testowy."
   ],
   "metadata": {
    "collapsed": false,
    "pycharm": {
     "name": "#%% md\n"
    }
   }
  },
  {
   "cell_type": "code",
   "execution_count": 51,
   "outputs": [
    {
     "name": "stdout",
     "output_type": "stream",
     "text": [
      "[51, -71, -1, 77, 70, 18, -41, -5, -81, 41, 52, 44, -69, 57, 31, -15, 92, -38, -33, -17]\n",
      "najblizej liczbie 65 w liscie jest 70\n"
     ]
    }
   ],
   "source": [
    "def zad3(n):\n",
    "    lista = [r.randint(-100,101) for x in range(20)]\n",
    "    pom = 999\n",
    "    index = None\n",
    "    print(lista)\n",
    "    for x in lista:\n",
    "\n",
    "        if abs(x-n) < pom:\n",
    "            pom = abs(x-n)\n",
    "            index = lista.index(x)\n",
    "    return lista[index]\n",
    "\n",
    "a = 65\n",
    "print(f'najblizej liczbie {a} w liscie jest {zad3(a)}')"
   ],
   "metadata": {
    "collapsed": false,
    "pycharm": {
     "name": "#%%\n"
    }
   }
  },
  {
   "cell_type": "markdown",
   "source": [
    "4. Stwórz 10-elementową listę, której elementy są wygenerowane zgodnie z rozkładem normalnym o średniej\n",
    "5 i odchyleniu standardowym 0.25."
   ],
   "metadata": {
    "collapsed": false,
    "pycharm": {
     "name": "#%% md\n"
    }
   }
  },
  {
   "cell_type": "code",
   "execution_count": 52,
   "outputs": [
    {
     "name": "stdout",
     "output_type": "stream",
     "text": [
      "[5.121306971271569, 5.052785989128712, 4.902364189398284, 4.85096942544973, 5.527253996702796, 4.8179305726923465, 5.008860217525973, 4.947336091842851, 5.084757203635102, 4.716265648170536]\n"
     ]
    }
   ],
   "source": [
    "zad4 = [r.normalvariate(5,0.25) for x in range(10)]\n",
    "print(zad4)"
   ],
   "metadata": {
    "collapsed": false,
    "pycharm": {
     "name": "#%%\n"
    }
   }
  },
  {
   "cell_type": "markdown",
   "source": [
    "5. Stwórz 10-elementową listę, której elementy są wygenerowane zgodnie z rozkładem normalnym o średniej\n",
    "5 i wariancji 0.25"
   ],
   "metadata": {
    "collapsed": false,
    "pycharm": {
     "name": "#%% md\n"
    }
   }
  },
  {
   "cell_type": "code",
   "execution_count": 53,
   "outputs": [
    {
     "name": "stdout",
     "output_type": "stream",
     "text": [
      "[5.158854446720858, 5.123312555732569, 5.003211201091987, 5.10594021158967, 5.006983589861329, 4.968839147524509, 5.0258159143492875, 5.08517406595306, 5.069724075168121, 4.937529440639028]\n"
     ]
    }
   ],
   "source": [
    "zad5 = [r.normalvariate(5,0.25**2) for x in range(10)]\n",
    "print(zad5)"
   ],
   "metadata": {
    "collapsed": false,
    "pycharm": {
     "name": "#%%\n"
    }
   }
  },
  {
   "cell_type": "markdown",
   "source": [
    "Stwórz 4-elementową listę, której elementy są wylosowane z przedziału [100, 200] oraz są jednocześnie\n",
    "podzielne przez 3."
   ],
   "metadata": {
    "collapsed": false,
    "pycharm": {
     "name": "#%% md\n"
    }
   }
  },
  {
   "cell_type": "code",
   "execution_count": 59,
   "outputs": [
    {
     "name": "stdout",
     "output_type": "stream",
     "text": [
      "[135, 150, 138, 147]\n"
     ]
    }
   ],
   "source": [
    "zad6 = []\n",
    "while len(zad6)<4:\n",
    "    q = r.randint(100,201)\n",
    "    if q % 3 == 0:\n",
    "        zad6.append(q)\n",
    "print(zad6)"
   ],
   "metadata": {
    "collapsed": false,
    "pycharm": {
     "name": "#%%\n"
    }
   }
  },
  {
   "cell_type": "markdown",
   "source": [
    "7. Napisz program, w którym na początku jest wylosowany napis składający się 5 znaków będących małymi\n",
    "literami alfabetu łacińskiego. Zadaniem użytkownika jest zgadnięcie ciągu znaków poprzez kolejne\n",
    "próby wpisywane na standardowym wejściu. Dla ułatwienia wyświetl komunikat czy wprowadzony ciąg\n",
    "znaków jest wcześniej lub później (w porządku leksykograficznym)."
   ],
   "metadata": {
    "collapsed": false,
    "pycharm": {
     "name": "#%% md\n"
    }
   }
  },
  {
   "cell_type": "code",
   "execution_count": 79,
   "outputs": [
    {
     "name": "stdout",
     "output_type": "stream",
     "text": [
      "xwkyn\n",
      "poprawny znak w prawo o  20\n",
      "prawidlowo\n",
      "poprawne litery:  x\n",
      "\n",
      "poprawny znak w prawo o  17\n",
      "prawidlowo\n",
      "poprawne litery:  xw\n",
      "\n",
      "prawidlowo\n",
      "poprawne litery:  xwk\n",
      "\n",
      "poprawny znak w prawo o  19\n",
      "poprawny znak w prawo o  6\n",
      "poprawny znak w prawo o  24\n",
      "poprawny znak w prawo o  13\n",
      "poprawny znak w prawo o  1\n",
      "prawidlowo\n",
      "poprawne litery:  xwky\n",
      "\n",
      "poprawny znak w prawo o  7\n",
      "poprawny znak w prawo o  13\n",
      "poprawny znak w lewo o  10\n",
      "poprawny znak w prawo o  6\n",
      "poprawny znak w prawo o  8\n",
      "poprawny znak w prawo o  4\n",
      "poprawny znak w prawo o  1\n",
      "prawidlowo\n",
      "poprawne litery:  xwkyn\n",
      "\n"
     ]
    }
   ],
   "source": [
    "slowo = ''\n",
    "import time\n",
    "for x in range(5):\n",
    "    slowo+= chr(r.randint(97,122))\n",
    "odpowiedz = ''\n",
    "\n",
    "for char in slowo:\n",
    "    odp = ''\n",
    "    while odp!=char:\n",
    "        odp = input(\"podaj znak: \")\n",
    "        if odp==char:\n",
    "            odpowiedz+=odp\n",
    "            print(\"prawidlowo\")\n",
    "            break\n",
    "        i_odp = ord(odp)\n",
    "        i_char = ord(char)\n",
    "        if i_odp>i_char:\n",
    "            print('poprawny znak w lewo o ',abs(i_odp-i_char))\n",
    "        else:\n",
    "            print('poprawny znak w prawo o ',abs(i_odp-i_char))\n",
    "\n",
    "        time.sleep(1)\n",
    "    print('poprawne litery: ',odpowiedz)\n",
    "    print()\n",
    "print('udalo ci sie odgadnac haslo ktorym bylo -', odpowiedz)"
   ],
   "metadata": {
    "collapsed": false,
    "pycharm": {
     "name": "#%%\n"
    }
   }
  },
  {
   "cell_type": "code",
   "execution_count": null,
   "outputs": [],
   "source": [],
   "metadata": {
    "collapsed": false,
    "pycharm": {
     "name": "#%%\n"
    }
   }
  }
 ],
 "metadata": {
  "kernelspec": {
   "display_name": "Python 3",
   "language": "python",
   "name": "python3"
  },
  "language_info": {
   "codemirror_mode": {
    "name": "ipython",
    "version": 2
   },
   "file_extension": ".py",
   "mimetype": "text/x-python",
   "name": "python",
   "nbconvert_exporter": "python",
   "pygments_lexer": "ipython2",
   "version": "2.7.6"
  }
 },
 "nbformat": 4,
 "nbformat_minor": 0
}