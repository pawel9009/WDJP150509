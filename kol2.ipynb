{
 "cells": [
  {
   "cell_type": "markdown",
   "metadata": {
    "collapsed": true,
    "pycharm": {
     "name": "#%% md\n"
    }
   },
   "source": [
    "Zad.1. Stwórz moduł lub pakiet, w którym stworzysz typ namedtuple o nazwie Book ze składowymi\n",
    "(zmiennymi) title (string) oraz price (float). Następnie w module wykonaj operacje:\n",
    "a) dodaj funkcję, której argumentem będzie zmienna typu Book. Funkcja ma zwrócić ile znaków znajduje\n",
    "się w tytule.\n",
    "b) dodaj funkcję, której argumentem będzie lista zmiennych typu Book. Funkcja ma zwrócić najdroższą\n",
    "cenę spośród książek na liście."
   ]
  },
  {
   "cell_type": "code",
   "execution_count": 1,
   "outputs": [],
   "source": [
    "import kol2_zad1_mod as zad1"
   ],
   "metadata": {
    "collapsed": false,
    "pycharm": {
     "name": "#%%\n"
    }
   }
  },
  {
   "cell_type": "code",
   "execution_count": 2,
   "outputs": [],
   "source": [
    "ks = zad1.Book('lalka', 54.54)\n",
    "ks1 = zad1.Book('asd', 24.54)\n",
    "ks2 = zad1.Book('ortrt', 454.54)\n",
    "ks3 = zad1.Book('sdfdfsdfdsf', 4.54)"
   ],
   "metadata": {
    "collapsed": false,
    "pycharm": {
     "name": "#%%\n"
    }
   }
  },
  {
   "cell_type": "code",
   "execution_count": 3,
   "outputs": [
    {
     "name": "stdout",
     "output_type": "stream",
     "text": [
      "11\n"
     ]
    }
   ],
   "source": [
    "print(zad1.ile_znakow(ks3))"
   ],
   "metadata": {
    "collapsed": false,
    "pycharm": {
     "name": "#%%\n"
    }
   }
  },
  {
   "cell_type": "code",
   "execution_count": 4,
   "outputs": [
    {
     "name": "stdout",
     "output_type": "stream",
     "text": [
      "454.54\n"
     ]
    }
   ],
   "source": [
    "print(zad1.najdrozsza([ks, ks1, ks2, ks3]))"
   ],
   "metadata": {
    "collapsed": false,
    "pycharm": {
     "name": "#%%\n"
    }
   }
  },
  {
   "cell_type": "markdown",
   "source": [
    "Zad.2. Stwórz moduł lub pakiet. Następnie w module lub pakiecie umieść funkcje odpowiadające za:\n",
    "a) otwarcie pliku do zapisu w trybie tekstowym, argumentem jest ścieżka dostępu\n",
    "b) zamknięcie pliku przekazanego jako argument\n",
    "c) zapisanie do pliku (pierwszy argument funkcji) z pominięciem małych liter z alfabetu łacińskiego z\n",
    "napisu (drugi argument funkcji)"
   ],
   "metadata": {
    "collapsed": false,
    "pycharm": {
     "name": "#%% md\n"
    }
   }
  },
  {
   "cell_type": "code",
   "source": [
    "import kol2_zad2_mod as zad2"
   ],
   "metadata": {
    "collapsed": false,
    "pycharm": {
     "name": "#%%\n"
    }
   },
   "execution_count": 5,
   "outputs": []
  },
  {
   "cell_type": "code",
   "execution_count": 9,
   "outputs": [
    {
     "name": "stdout",
     "output_type": "stream",
     "text": [
      "False\n",
      "True\n",
      "plik nie jest otwarty\n"
     ]
    }
   ],
   "source": [
    "path = 'plik.txt'\n",
    "\n",
    "plik = zad2.otwarcie_pliku(path)\n",
    "print(plik.closed)\n",
    "zad2.zamkniecie_pliku(plik)\n",
    "print(plik.closed)\n",
    "zad2.zapisz(plik, 'uegbfhsvfhevf')\n",
    "plik = zad2.otwarcie_pliku(path)\n",
    "zad2.zapisz(plik, 'jabdsgvdagd')"
   ],
   "metadata": {
    "collapsed": false,
    "pycharm": {
     "name": "#%%\n"
    }
   }
  },
  {
   "cell_type": "markdown",
   "source": [
    "Zad.3. Stwórz moduł lub pakiet. Dodaj tam następujące funkcje:\n",
    "a) funkcja, która losuje znak będący małą literą alfabetu łacińskiego. Wylosowany znak ma zostać\n",
    "wydrukowany na wyjściu. Następnie funkcja zlicza i wyświetla ile razy wylosowany znak występuje w\n",
    "podanym napisie jako argument funkcji.\n",
    "b) funkcja, której argumentem jest dodatnia liczba całkowita (0 < n < 106). Następnie wewnątrz funkcji\n",
    "wylosuj i wyświetl dowolną cyfrę. Dalej funkcja ma z zapisu dziesiętnego danej liczby usunąć wszystkie\n",
    "wystąpienie danej cyfry. Nowa liczba ma być wyświetlona przez funkcję."
   ],
   "metadata": {
    "collapsed": false,
    "pycharm": {
     "name": "#%% md\n"
    }
   }
  },
  {
   "cell_type": "code",
   "execution_count": 10,
   "outputs": [],
   "source": [
    "import kol2_zad3_mod as zad3"
   ],
   "metadata": {
    "collapsed": false,
    "pycharm": {
     "name": "#%%\n"
    }
   }
  },
  {
   "cell_type": "code",
   "execution_count": 12,
   "outputs": [
    {
     "name": "stdout",
     "output_type": "stream",
     "text": [
      "d\n",
      "1\n"
     ]
    }
   ],
   "source": [
    "zad3.a('sbhfvbsvefyvuyshbdcusoayeeqwer')"
   ],
   "metadata": {
    "collapsed": false,
    "pycharm": {
     "name": "#%%\n"
    }
   }
  },
  {
   "cell_type": "code",
   "execution_count": 14,
   "outputs": [
    {
     "name": "stdout",
     "output_type": "stream",
     "text": [
      "8\n",
      "123456790\n"
     ]
    }
   ],
   "source": [
    "zad3.b(1234567890)"
   ],
   "metadata": {
    "collapsed": false,
    "pycharm": {
     "name": "#%%\n"
    }
   }
  },
  {
   "cell_type": "code",
   "execution_count": null,
   "outputs": [],
   "source": [],
   "metadata": {
    "collapsed": false,
    "pycharm": {
     "name": "#%%\n"
    }
   }
  }
 ],
 "metadata": {
  "kernelspec": {
   "display_name": "Python 3",
   "language": "python",
   "name": "python3"
  },
  "language_info": {
   "codemirror_mode": {
    "name": "ipython",
    "version": 2
   },
   "file_extension": ".py",
   "mimetype": "text/x-python",
   "name": "python",
   "nbconvert_exporter": "python",
   "pygments_lexer": "ipython2",
   "version": "2.7.6"
  }
 },
 "nbformat": 4,
 "nbformat_minor": 0
}