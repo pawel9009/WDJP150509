{
 "cells": [
  {
   "cell_type": "markdown",
   "metadata": {
    "collapsed": true,
    "pycharm": {
     "name": "#%% md\n"
    }
   },
   "source": [
    "1. Zadeklaruj zmienną typu int, float i str i poćwicz różne formaty napisów"
   ]
  },
  {
   "cell_type": "code",
   "execution_count": 1,
   "outputs": [
    {
     "name": "stdout",
     "output_type": "stream",
     "text": [
      "8 : 6.45 : 45\n",
      "8 6.45 45\n",
      "8 |  6.45 |  45\n",
      "wyr 8\n"
     ]
    }
   ],
   "source": [
    "zm1 = 8\n",
    "zm2 = 6.45\n",
    "zm3 = '45'\n",
    "print(f'{zm1} : {zm2} : {zm3}')\n",
    "print(zm1,zm2, zm3 )\n",
    "print('%i |  %.2f |  %s'% (zm1,zm2, zm3))\n",
    "print('wyr {}'.format(zm1))"
   ],
   "metadata": {
    "collapsed": false,
    "pycharm": {
     "name": "#%%\n"
    }
   }
  },
  {
   "cell_type": "markdown",
   "source": [
    "2. Spróbuj jeden z plików na giście wykonać w stylu f-string."
   ],
   "metadata": {
    "collapsed": false
   }
  },
  {
   "cell_type": "code",
   "execution_count": 2,
   "outputs": [
    {
     "name": "stdout",
     "output_type": "stream",
     "text": [
      "zm1\n",
      "wyr1-442\n",
      "wyr2-442\n",
      "wyr3-442\n",
      "wyr4-442\n",
      "wyr5-442\n",
      "zm2\n",
      "wyr1=-567\n",
      "wyr2=-567\n",
      "wyr3=-567\n",
      "wyr4=-567\n",
      "wyr5=-567\n",
      "wyr6=3\n",
      "wyr7=3\n",
      "wyr8=3\n"
     ]
    }
   ],
   "source": [
    "zm1 = 442\n",
    "zm2 = -567\n",
    "zm3 = 3\n",
    "print(f\"zm1\")\n",
    "print(f\"wyr1-{zm1}\")\n",
    "print(f\"wyr2-{zm1}\")\n",
    "print(f\"wyr3-{zm1}\")\n",
    "print(f\"wyr4-{zm1}\")\n",
    "print(f\"wyr5-{zm1}\")\n",
    "\n",
    "print(f\"zm2\")\n",
    "print(f\"wyr1={zm2}\")\n",
    "print(f\"wyr2={zm2}\")\n",
    "print(f\"wyr3={zm2}\")\n",
    "print(f\"wyr4={zm2}\")\n",
    "print(f\"wyr5={zm2}\")\n",
    "print(f\"wyr6={zm3}\")\n",
    "print(f\"wyr7={zm3}\")\n",
    "print(f\"wyr8={zm3}\")"
   ],
   "metadata": {
    "collapsed": false,
    "pycharm": {
     "name": "#%%\n"
    }
   }
  },
  {
   "cell_type": "markdown",
   "source": [
    "3. Napisz program, który zlicza i wyświetla zestawienie liczebności poszczególnych znaków w napisie."
   ],
   "metadata": {
    "collapsed": false,
    "pycharm": {
     "name": "#%% md\n"
    }
   }
  },
  {
   "cell_type": "code",
   "source": [
    "zad3 = \"hello word\"\n",
    "suma = 0\n",
    "for znak in zad3:\n",
    "    liczba = ord(znak)\n",
    "    print(f'znak {znak} = {liczba}')\n",
    "    suma += liczba\n",
    "print(f'suma znaków = {suma}')"
   ],
   "metadata": {
    "collapsed": false,
    "pycharm": {
     "name": "#%%\n"
    }
   },
   "execution_count": 3,
   "outputs": [
    {
     "name": "stdout",
     "output_type": "stream",
     "text": [
      "znak h = 104\n",
      "znak e = 101\n",
      "znak l = 108\n",
      "znak l = 108\n",
      "znak o = 111\n",
      "znak   = 32\n",
      "znak w = 119\n",
      "znak o = 111\n",
      "znak r = 114\n",
      "znak d = 100\n",
      "suma znaków = 1008\n"
     ]
    }
   ]
  },
  {
   "cell_type": "markdown",
   "source": [
    "4. Napisz program, który zamienia samogłoski na gwiazdki."
   ],
   "metadata": {
    "collapsed": false,
    "pycharm": {
     "name": "#%% md\n"
    }
   }
  },
  {
   "cell_type": "code",
   "execution_count": 4,
   "outputs": [
    {
     "name": "stdout",
     "output_type": "stream",
     "text": [
      "H*ll* w*rd\n"
     ]
    }
   ],
   "source": [
    "krotka = ('a', 'e', 'i', 'o', 'u', 'y','A','E','I','O','U','Y' )\n",
    "\n",
    "zad4 = 'Hello word'\n",
    "\n",
    "for i in range(len(zad4)):\n",
    "    if zad4[i] in krotka:\n",
    "        zad4 = zad4[:i]+'*'+zad4[i+1:]\n",
    "print(zad4)"
   ],
   "metadata": {
    "collapsed": false,
    "pycharm": {
     "name": "#%%\n"
    }
   }
  },
  {
   "cell_type": "markdown",
   "source": [
    "5. Napisz program szyfrujący i deszyfrujący napisy zgodnie z Szyfrem Cezara https://pl.wikipedia.org/\n",
    "wiki/Szyfr_Cezara Klucz n ma być zmienną w kodzie."
   ],
   "metadata": {
    "collapsed": false,
    "pycharm": {
     "name": "#%% md\n"
    }
   }
  },
  {
   "cell_type": "code",
   "source": [
    "\n",
    "szyfrowanie = \"\"\n",
    "zad5_napis1 = 'SzYfr cezara'\n",
    "print(zad5_napis1)\n",
    "klucz = 2\n",
    "for litera in zad5_napis1:\n",
    "    if litera == ' ':\n",
    "        szyfrowanie+=' '\n",
    "    elif litera == ',':\n",
    "        szyfrowanie+=','\n",
    "    elif litera == '.':\n",
    "        szyfrowanie+='.'\n",
    "    else:\n",
    "        if ord(litera)<91:\n",
    "            liczba = (ord(litera)-65)+klucz\n",
    "            liczba = (liczba%26)+65\n",
    "            szyfrowanie+= chr(liczba)\n",
    "        else:\n",
    "            liczba = (ord(litera)-97)+klucz\n",
    "            liczba = (liczba%26)+97\n",
    "            szyfrowanie+= chr(liczba)\n",
    "\n",
    "print(f'{szyfrowanie} zaszyfrowanie z kluczem = {klucz}')\n",
    "print('-------------------------')\n",
    "\n",
    "deszyfrowanie = \"\"\n",
    "zad5_napis2 = 'DZDNSADRMI'\n",
    "print(zad5_napis2)\n",
    "for litera in zad5_napis2:\n",
    "    if litera == ' ':\n",
    "        deszyfrowanie+=' '\n",
    "    elif litera == ',':\n",
    "        deszyfrowanie+=','\n",
    "    elif litera == '.':\n",
    "        deszyfrowanie+='.'\n",
    "    else:\n",
    "        if ord(litera)<91:\n",
    "            liczba = (ord(litera)-65)-klucz\n",
    "            liczba = (liczba%26)+65\n",
    "            deszyfrowanie += chr(liczba)\n",
    "        else:\n",
    "            liczba = (ord(litera)-65)-klucz\n",
    "            liczba = (liczba%26)+65\n",
    "            deszyfrowanie+= chr(liczba)\n",
    "print(f'{deszyfrowanie} deszyfrowanie z kluczem = {klucz}')\n"
   ],
   "metadata": {
    "collapsed": false,
    "pycharm": {
     "name": "#%%\n"
    }
   },
   "execution_count": 20,
   "outputs": [
    {
     "name": "stdout",
     "output_type": "stream",
     "text": [
      "SzYfr cezara\n",
      "UbAht egbctc zaszyfrowanie z kluczem = 2\n",
      "-------------------------\n",
      "DZDNSADRMI\n",
      "BXBLQYBPKG deszyfrowanie z kluczem = 2\n"
     ]
    }
   ]
  },
  {
   "cell_type": "markdown",
   "source": [
    "6. Napisz program zamieniający małe litery na duże, a duże na małe."
   ],
   "metadata": {
    "collapsed": false,
    "pycharm": {
     "name": "#%% md\n"
    }
   }
  },
  {
   "cell_type": "code",
   "execution_count": 24,
   "outputs": [
    {
     "name": "stdout",
     "output_type": "stream",
     "text": [
      "hELLO wORLD\n"
     ]
    }
   ],
   "source": [
    "zad6 = \"Hello World\"\n",
    "zad6_wynik = ''\n",
    "for x in zad6:\n",
    "    if 97 <= ord(x) <= 123:\n",
    "        zad6_wynik += x.upper()\n",
    "    elif 65 <= ord(x) <= 91:\n",
    "        zad6_wynik += x.lower()\n",
    "    else:\n",
    "        zad6_wynik += x\n",
    "print(zad6_wynik)\n"
   ],
   "metadata": {
    "collapsed": false,
    "pycharm": {
     "name": "#%%\n"
    }
   }
  },
  {
   "cell_type": "code",
   "execution_count": null,
   "outputs": [],
   "source": [],
   "metadata": {
    "collapsed": false,
    "pycharm": {
     "name": "#%%\n"
    }
   }
  }
 ],
 "metadata": {
  "kernelspec": {
   "display_name": "Python 3",
   "language": "python",
   "name": "python3"
  },
  "language_info": {
   "codemirror_mode": {
    "name": "ipython",
    "version": 2
   },
   "file_extension": ".py",
   "mimetype": "text/x-python",
   "name": "python",
   "nbconvert_exporter": "python",
   "pygments_lexer": "ipython2",
   "version": "2.7.6"
  }
 },
 "nbformat": 4,
 "nbformat_minor": 0
}