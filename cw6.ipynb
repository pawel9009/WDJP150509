{
 "cells": [
  {
   "cell_type": "markdown",
   "metadata": {
    "collapsed": true,
    "pycharm": {
     "name": "#%% md\n"
    }
   },
   "source": [
    "1. Zadeklaruj zmienną typu int, float i str i poćwicz różne formaty napisów"
   ]
  },
  {
   "cell_type": "code",
   "execution_count": 1,
   "outputs": [
    {
     "name": "stdout",
     "output_type": "stream",
     "text": [
      "8 : 6.45 : 45\n",
      "8 6.45 45\n",
      "8 |  6.45 |  45\n",
      "wyr 8\n"
     ]
    }
   ],
   "source": [
    "zm1 = 8\n",
    "zm2 = 6.45\n",
    "zm3 = '45'\n",
    "print(f'{zm1} : {zm2} : {zm3}')\n",
    "print(zm1,zm2, zm3 )\n",
    "print('%i |  %.2f |  %s'% (zm1,zm2, zm3))\n",
    "print('wyr {}'.format(zm1))"
   ],
   "metadata": {
    "collapsed": false,
    "pycharm": {
     "name": "#%%\n"
    }
   }
  },
  {
   "cell_type": "markdown",
   "source": [
    "2. Spróbuj jeden z plików na giście wykonać w stylu f-string."
   ],
   "metadata": {
    "collapsed": false
   }
  },
  {
   "cell_type": "code",
   "execution_count": 5,
   "outputs": [
    {
     "name": "stdout",
     "output_type": "stream",
     "text": [
      "wyr1 1.230000\n",
      "wyr1b 1.23\n",
      "wyr1c 1.23\n",
      "wyr2 L\n",
      "wyr2 X\n",
      "wyr4 76\n",
      "wyr6 1.230000e+00\n",
      "wyr7 1.230000E+00\n",
      "wyr8 1.230000\n",
      "wyr9 1.23\n",
      "wyr10 1e-08\n",
      "wyr11 4.38563e+10\n",
      "wyr12 114\n",
      "wyr13 abasdfsfc\n",
      "wyr14 4c\n",
      "wyr15 4C\n"
     ]
    }
   ],
   "source": [
    "zm1 = 1.23\n",
    "zm2 = 76\n",
    "zm3 = \"X\"\n",
    "zm4 = 0.00000001\n",
    "zm5 = 43856314315\n",
    "zm6 = \"abasdfsfc\"\n",
    "\n",
    "s1 = f\"wyr1 {zm1:f}\"\n",
    "print(s1)\n",
    "s1b = f\"wyr1b {zm1!s}\"\n",
    "print(s1b)\n",
    "s1c = f\"wyr1c {zm1!r}\"\n",
    "print(s1c)\n",
    "s2 = f\"wyr2 {zm2:c}\"\n",
    "print(s2)\n",
    "s3 = f\"wyr2 {zm3}\"\n",
    "print(s3)\n",
    "s4 = f\"wyr4 {zm2:d}\"\n",
    "print(s4)\n",
    "s6 = f\"wyr6 {zm1:e}\"\n",
    "print(s6)\n",
    "s7 = f\"wyr7 {zm1:E}\"\n",
    "print(s7)\n",
    "s8 = f\"wyr8 {zm1:f}\"\n",
    "print(s8)\n",
    "s9 = f\"wyr9 {zm1:g}\"\n",
    "print(s9)\n",
    "s10 = f\"wyr10 {zm4:g}\"\n",
    "print(s10)\n",
    "s11 = f\"wyr11 {zm5:g}\"\n",
    "print(s11)\n",
    "s12 = f\"wyr12 {zm2:o}\"\n",
    "print(s12)\n",
    "s13 = f\"wyr13 {zm6}\"\n",
    "print(s13)\n",
    "s14 = f\"wyr14 {zm2:x}\"\n",
    "print(s14)\n",
    "s15 = f\"wyr15 {zm2:X}\"\n",
    "print(s15)"
   ],
   "metadata": {
    "collapsed": false,
    "pycharm": {
     "name": "#%%\n"
    }
   }
  },
  {
   "cell_type": "markdown",
   "source": [
    "3. Napisz program, który zlicza i wyświetla zestawienie liczebności poszczególnych znaków w napisie."
   ],
   "metadata": {
    "collapsed": false,
    "pycharm": {
     "name": "#%% md\n"
    }
   }
  },
  {
   "cell_type": "code",
   "source": [
    "zad3 = \"hello word\"\n",
    "suma = 0\n",
    "for znak in zad3:\n",
    "    liczba = ord(znak)\n",
    "    print(f'znak {znak} = {liczba}')\n",
    "    suma += liczba\n",
    "print(f'suma znaków = {suma}')"
   ],
   "metadata": {
    "collapsed": false,
    "pycharm": {
     "name": "#%%\n"
    }
   },
   "execution_count": 3,
   "outputs": [
    {
     "name": "stdout",
     "output_type": "stream",
     "text": [
      "znak h = 104\n",
      "znak e = 101\n",
      "znak l = 108\n",
      "znak l = 108\n",
      "znak o = 111\n",
      "znak   = 32\n",
      "znak w = 119\n",
      "znak o = 111\n",
      "znak r = 114\n",
      "znak d = 100\n",
      "suma znaków = 1008\n"
     ]
    }
   ]
  },
  {
   "cell_type": "markdown",
   "source": [
    "4. Napisz program, który zamienia samogłoski na gwiazdki."
   ],
   "metadata": {
    "collapsed": false,
    "pycharm": {
     "name": "#%% md\n"
    }
   }
  },
  {
   "cell_type": "code",
   "execution_count": 4,
   "outputs": [
    {
     "name": "stdout",
     "output_type": "stream",
     "text": [
      "H*ll* w*rd\n"
     ]
    }
   ],
   "source": [
    "krotka = ('a', 'e', 'i', 'o', 'u', 'y','A','E','I','O','U','Y' )\n",
    "\n",
    "zad4 = 'Hello word'\n",
    "\n",
    "for i in range(len(zad4)):\n",
    "    if zad4[i] in krotka:\n",
    "        zad4 = zad4[:i]+'*'+zad4[i+1:]\n",
    "print(zad4)"
   ],
   "metadata": {
    "collapsed": false,
    "pycharm": {
     "name": "#%%\n"
    }
   }
  },
  {
   "cell_type": "markdown",
   "source": [
    "5. Napisz program szyfrujący i deszyfrujący napisy zgodnie z Szyfrem Cezara https://pl.wikipedia.org/\n",
    "wiki/Szyfr_Cezara Klucz n ma być zmienną w kodzie."
   ],
   "metadata": {
    "collapsed": false,
    "pycharm": {
     "name": "#%% md\n"
    }
   }
  },
  {
   "cell_type": "code",
   "source": [
    "\n",
    "szyfrowanie = \"\"\n",
    "zad5_napis1 = 'SzYfr cezara'\n",
    "print(zad5_napis1)\n",
    "klucz = 2\n",
    "for litera in zad5_napis1:\n",
    "    if litera == ' ':\n",
    "        szyfrowanie+=' '\n",
    "    elif litera == ',':\n",
    "        szyfrowanie+=','\n",
    "    elif litera == '.':\n",
    "        szyfrowanie+='.'\n",
    "    else:\n",
    "        if ord(litera)<91:\n",
    "            liczba = (ord(litera)-65)+klucz\n",
    "            liczba = (liczba%26)+65\n",
    "            szyfrowanie+= chr(liczba)\n",
    "        else:\n",
    "            liczba = (ord(litera)-97)+klucz\n",
    "            liczba = (liczba%26)+97\n",
    "            szyfrowanie+= chr(liczba)\n",
    "\n",
    "print(f'{szyfrowanie} zaszyfrowanie z kluczem = {klucz}')\n",
    "print('-------------------------')\n",
    "\n",
    "deszyfrowanie = \"\"\n",
    "zad5_napis2 = 'DZDNSADRMI'\n",
    "print(zad5_napis2)\n",
    "for litera in zad5_napis2:\n",
    "    if litera == ' ':\n",
    "        deszyfrowanie+=' '\n",
    "    elif litera == ',':\n",
    "        deszyfrowanie+=','\n",
    "    elif litera == '.':\n",
    "        deszyfrowanie+='.'\n",
    "    else:\n",
    "        if ord(litera)<91:\n",
    "            liczba = (ord(litera)-65)-klucz\n",
    "            liczba = (liczba%26)+65\n",
    "            deszyfrowanie += chr(liczba)\n",
    "        else:\n",
    "            liczba = (ord(litera)-65)-klucz\n",
    "            liczba = (liczba%26)+65\n",
    "            deszyfrowanie+= chr(liczba)\n",
    "print(f'{deszyfrowanie} deszyfrowanie z kluczem = {klucz}')\n"
   ],
   "metadata": {
    "collapsed": false,
    "pycharm": {
     "name": "#%%\n"
    }
   },
   "execution_count": 20,
   "outputs": [
    {
     "name": "stdout",
     "output_type": "stream",
     "text": [
      "SzYfr cezara\n",
      "UbAht egbctc zaszyfrowanie z kluczem = 2\n",
      "-------------------------\n",
      "DZDNSADRMI\n",
      "BXBLQYBPKG deszyfrowanie z kluczem = 2\n"
     ]
    }
   ]
  },
  {
   "cell_type": "markdown",
   "source": [
    "6. Napisz program zamieniający małe litery na duże, a duże na małe."
   ],
   "metadata": {
    "collapsed": false,
    "pycharm": {
     "name": "#%% md\n"
    }
   }
  },
  {
   "cell_type": "code",
   "execution_count": 24,
   "outputs": [
    {
     "name": "stdout",
     "output_type": "stream",
     "text": [
      "hELLO wORLD\n"
     ]
    }
   ],
   "source": [
    "zad6 = \"Hello World\"\n",
    "zad6_wynik = ''\n",
    "for x in zad6:\n",
    "    if 97 <= ord(x) <= 123:\n",
    "        zad6_wynik += x.upper()\n",
    "    elif 65 <= ord(x) <= 91:\n",
    "        zad6_wynik += x.lower()\n",
    "    else:\n",
    "        zad6_wynik += x\n",
    "print(zad6_wynik)\n"
   ],
   "metadata": {
    "collapsed": false,
    "pycharm": {
     "name": "#%%\n"
    }
   }
  },
  {
   "cell_type": "code",
   "execution_count": null,
   "outputs": [],
   "source": [],
   "metadata": {
    "collapsed": false,
    "pycharm": {
     "name": "#%%\n"
    }
   }
  }
 ],
 "metadata": {
  "kernelspec": {
   "display_name": "Python 3",
   "language": "python",
   "name": "python3"
  },
  "language_info": {
   "codemirror_mode": {
    "name": "ipython",
    "version": 2
   },
   "file_extension": ".py",
   "mimetype": "text/x-python",
   "name": "python",
   "nbconvert_exporter": "python",
   "pygments_lexer": "ipython2",
   "version": "2.7.6"
  }
 },
 "nbformat": 4,
 "nbformat_minor": 0
}